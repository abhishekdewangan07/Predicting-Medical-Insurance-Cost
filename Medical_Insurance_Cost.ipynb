{
 "cells": [
  {
   "cell_type": "markdown",
   "metadata": {},
   "source": [
    "Dataset: https://www.kaggle.com/ronitf/heart-disease-uci"
   ]
  },
  {
   "cell_type": "code",
   "execution_count": 1,
   "metadata": {},
   "outputs": [],
   "source": [
    "#Import the libraries\n",
    "\n",
    "import numpy as np\n",
    "import pandas as pd\n",
    "import matplotlib.pyplot as plt\n",
    "import seaborn as sns\n",
    "%matplotlib inline\n",
    "from sklearn.model_selection import cross_val_score, KFold\n",
    "from sklearn.linear_model import LinearRegression\n",
    "from sklearn.tree import DecisionTreeRegressor\n",
    "from sklearn.ensemble import RandomForestRegressor\n",
    "from sklearn.ensemble import AdaBoostRegressor \n",
    "from sklearn.ensemble import GradientBoostingRegressor\n",
    "from xgboost.sklearn import XGBRegressor\n",
    "from sklearn.metrics import r2_score\n",
    "from sklearn.metrics import mean_squared_error\n",
    "from sklearn.preprocessing import LabelEncoder\n",
    "from sklearn.preprocessing import StandardScaler, MinMaxScaler\n",
    "from sklearn.preprocessing import PolynomialFeatures\n",
    "import statsmodels.regression.linear_model as sm"
   ]
  },
  {
   "cell_type": "code",
   "execution_count": 2,
   "metadata": {},
   "outputs": [
    {
     "data": {
      "text/html": [
       "<div>\n",
       "<style scoped>\n",
       "    .dataframe tbody tr th:only-of-type {\n",
       "        vertical-align: middle;\n",
       "    }\n",
       "\n",
       "    .dataframe tbody tr th {\n",
       "        vertical-align: top;\n",
       "    }\n",
       "\n",
       "    .dataframe thead th {\n",
       "        text-align: right;\n",
       "    }\n",
       "</style>\n",
       "<table border=\"1\" class=\"dataframe\">\n",
       "  <thead>\n",
       "    <tr style=\"text-align: right;\">\n",
       "      <th></th>\n",
       "      <th>age</th>\n",
       "      <th>sex</th>\n",
       "      <th>bmi</th>\n",
       "      <th>children</th>\n",
       "      <th>smoker</th>\n",
       "      <th>region</th>\n",
       "      <th>charges</th>\n",
       "    </tr>\n",
       "  </thead>\n",
       "  <tbody>\n",
       "    <tr>\n",
       "      <td>0</td>\n",
       "      <td>19</td>\n",
       "      <td>female</td>\n",
       "      <td>27.900</td>\n",
       "      <td>0</td>\n",
       "      <td>yes</td>\n",
       "      <td>southwest</td>\n",
       "      <td>16884.92400</td>\n",
       "    </tr>\n",
       "    <tr>\n",
       "      <td>1</td>\n",
       "      <td>18</td>\n",
       "      <td>male</td>\n",
       "      <td>33.770</td>\n",
       "      <td>1</td>\n",
       "      <td>no</td>\n",
       "      <td>southeast</td>\n",
       "      <td>1725.55230</td>\n",
       "    </tr>\n",
       "    <tr>\n",
       "      <td>2</td>\n",
       "      <td>28</td>\n",
       "      <td>male</td>\n",
       "      <td>33.000</td>\n",
       "      <td>3</td>\n",
       "      <td>no</td>\n",
       "      <td>southeast</td>\n",
       "      <td>4449.46200</td>\n",
       "    </tr>\n",
       "    <tr>\n",
       "      <td>3</td>\n",
       "      <td>33</td>\n",
       "      <td>male</td>\n",
       "      <td>22.705</td>\n",
       "      <td>0</td>\n",
       "      <td>no</td>\n",
       "      <td>northwest</td>\n",
       "      <td>21984.47061</td>\n",
       "    </tr>\n",
       "    <tr>\n",
       "      <td>4</td>\n",
       "      <td>32</td>\n",
       "      <td>male</td>\n",
       "      <td>28.880</td>\n",
       "      <td>0</td>\n",
       "      <td>no</td>\n",
       "      <td>northwest</td>\n",
       "      <td>3866.85520</td>\n",
       "    </tr>\n",
       "  </tbody>\n",
       "</table>\n",
       "</div>"
      ],
      "text/plain": [
       "   age     sex     bmi  children smoker     region      charges\n",
       "0   19  female  27.900         0    yes  southwest  16884.92400\n",
       "1   18    male  33.770         1     no  southeast   1725.55230\n",
       "2   28    male  33.000         3     no  southeast   4449.46200\n",
       "3   33    male  22.705         0     no  northwest  21984.47061\n",
       "4   32    male  28.880         0     no  northwest   3866.85520"
      ]
     },
     "execution_count": 2,
     "metadata": {},
     "output_type": "execute_result"
    }
   ],
   "source": [
    "data = pd.read_csv(\"insurance.csv\")\n",
    "data.head()"
   ]
  },
  {
   "cell_type": "code",
   "execution_count": 3,
   "metadata": {},
   "outputs": [
    {
     "data": {
      "text/plain": [
       "False"
      ]
     },
     "execution_count": 3,
     "metadata": {},
     "output_type": "execute_result"
    }
   ],
   "source": [
    "# Check for the null values\n",
    "data.isnull().values.any()"
   ]
  },
  {
   "cell_type": "code",
   "execution_count": 4,
   "metadata": {},
   "outputs": [
    {
     "data": {
      "text/plain": [
       "age         0\n",
       "sex         0\n",
       "bmi         0\n",
       "children    0\n",
       "smoker      0\n",
       "region      0\n",
       "charges     0\n",
       "dtype: int64"
      ]
     },
     "execution_count": 4,
     "metadata": {},
     "output_type": "execute_result"
    }
   ],
   "source": [
    "data.isnull().sum()"
   ]
  },
  {
   "cell_type": "code",
   "execution_count": 5,
   "metadata": {},
   "outputs": [
    {
     "name": "stdout",
     "output_type": "stream",
     "text": [
      "<class 'pandas.core.frame.DataFrame'>\n",
      "RangeIndex: 1338 entries, 0 to 1337\n",
      "Data columns (total 7 columns):\n",
      "age         1338 non-null int64\n",
      "sex         1338 non-null object\n",
      "bmi         1338 non-null float64\n",
      "children    1338 non-null int64\n",
      "smoker      1338 non-null object\n",
      "region      1338 non-null object\n",
      "charges     1338 non-null float64\n",
      "dtypes: float64(2), int64(2), object(3)\n",
      "memory usage: 73.3+ KB\n"
     ]
    }
   ],
   "source": [
    "# Check the data info\n",
    "data.info()"
   ]
  },
  {
   "cell_type": "code",
   "execution_count": 6,
   "metadata": {},
   "outputs": [
    {
     "data": {
      "text/plain": [
       "Text(0.5, 1.0, 'Distribution of Charges')"
      ]
     },
     "execution_count": 6,
     "metadata": {},
     "output_type": "execute_result"
    },
    {
     "data": {
      "image/png": "[encoded data removed]",
      "text/plain": [
       "<Figure size 1080x288 with 1 Axes>"
      ]
     },
     "metadata": {
      "needs_background": "light"
     },
     "output_type": "display_data"
    }
   ],
   "source": [
    "#Distribution of target data\n",
    "fig = plt.figure(figsize = (15,4))\n",
    "sns.distplot(data['charges']) \n",
    "plt.title('Distribution of Charges')"
   ]
  },
  {
   "cell_type": "code",
   "execution_count": 7,
   "metadata": {},
   "outputs": [
    {
     "data": {
      "text/plain": [
       "<matplotlib.axes._subplots.AxesSubplot at 0x283be99ba08>"
      ]
     },
     "execution_count": 7,
     "metadata": {},
     "output_type": "execute_result"
    },
    {
     "data": {
      "image/png": "[encoded data removed]",
      "text/plain": [
       "<Figure size 432x288 with 1 Axes>"
      ]
     },
     "metadata": {
      "needs_background": "light"
     },
     "output_type": "display_data"
    }
   ],
   "source": [
    "#Outlier detection using Univariate Analysis\n",
    "data.boxplot(column = 'charges')"
   ]
  },
  {
   "cell_type": "code",
   "execution_count": 8,
   "metadata": {},
   "outputs": [
    {
     "data": {
      "image/png": "[encoded data removed]",
      "text/plain": [
       "<Figure size 1440x720 with 6 Axes>"
      ]
     },
     "metadata": {
      "needs_background": "light"
     },
     "output_type": "display_data"
    }
   ],
   "source": [
    "#Outlier detection using Bivariate Analysis\n",
    "\n",
    "#Create feature and target\n",
    "features = data.drop('charges',axis = 1)\n",
    "target = data['charges']\n",
    "\n",
    "fig, axes = plt.subplots(nrows=2, ncols=3, figsize=(20,10))\n",
    "\n",
    "i = 0\n",
    "for ind,col in enumerate(features.columns):\n",
    "    if ind < 3: \n",
    "        axes[i][ind].scatter(features[col],target,s=10)\n",
    "        axes[i][ind].set_xlabel(col)\n",
    "        axes[i][ind].set_ylabel(\"charges\")\n",
    "        ind=ind+1\n",
    "    else: \n",
    "        axes[i+1][ind-3].scatter(features[col],target,s=10)\n",
    "        axes[i+1][ind-3].set_xlabel(col)\n",
    "        axes[i+1][ind-3].set_ylabel(\"charges\")\n",
    "        ind=ind+1\n",
    "        \n",
    "plt.show()"
   ]
  },
  {
   "cell_type": "code",
   "execution_count": 9,
   "metadata": {},
   "outputs": [
    {
     "data": {
      "text/html": [
       "<div>\n",
       "<style scoped>\n",
       "    .dataframe tbody tr th:only-of-type {\n",
       "        vertical-align: middle;\n",
       "    }\n",
       "\n",
       "    .dataframe tbody tr th {\n",
       "        vertical-align: top;\n",
       "    }\n",
       "\n",
       "    .dataframe thead th {\n",
       "        text-align: right;\n",
       "    }\n",
       "</style>\n",
       "<table border=\"1\" class=\"dataframe\">\n",
       "  <thead>\n",
       "    <tr style=\"text-align: right;\">\n",
       "      <th></th>\n",
       "      <th>age</th>\n",
       "      <th>sex</th>\n",
       "      <th>bmi</th>\n",
       "      <th>children</th>\n",
       "      <th>smoker</th>\n",
       "      <th>region</th>\n",
       "      <th>charges</th>\n",
       "    </tr>\n",
       "  </thead>\n",
       "  <tbody>\n",
       "    <tr>\n",
       "      <td>0</td>\n",
       "      <td>19</td>\n",
       "      <td>female</td>\n",
       "      <td>27.900</td>\n",
       "      <td>0</td>\n",
       "      <td>yes</td>\n",
       "      <td>southwest</td>\n",
       "      <td>16884.92400</td>\n",
       "    </tr>\n",
       "    <tr>\n",
       "      <td>1</td>\n",
       "      <td>18</td>\n",
       "      <td>male</td>\n",
       "      <td>33.770</td>\n",
       "      <td>1</td>\n",
       "      <td>no</td>\n",
       "      <td>southeast</td>\n",
       "      <td>1725.55230</td>\n",
       "    </tr>\n",
       "    <tr>\n",
       "      <td>2</td>\n",
       "      <td>28</td>\n",
       "      <td>male</td>\n",
       "      <td>33.000</td>\n",
       "      <td>3</td>\n",
       "      <td>no</td>\n",
       "      <td>southeast</td>\n",
       "      <td>4449.46200</td>\n",
       "    </tr>\n",
       "    <tr>\n",
       "      <td>3</td>\n",
       "      <td>33</td>\n",
       "      <td>male</td>\n",
       "      <td>22.705</td>\n",
       "      <td>0</td>\n",
       "      <td>no</td>\n",
       "      <td>northwest</td>\n",
       "      <td>21984.47061</td>\n",
       "    </tr>\n",
       "    <tr>\n",
       "      <td>4</td>\n",
       "      <td>32</td>\n",
       "      <td>male</td>\n",
       "      <td>28.880</td>\n",
       "      <td>0</td>\n",
       "      <td>no</td>\n",
       "      <td>northwest</td>\n",
       "      <td>3866.85520</td>\n",
       "    </tr>\n",
       "  </tbody>\n",
       "</table>\n",
       "</div>"
      ],
      "text/plain": [
       "   age     sex     bmi  children smoker     region      charges\n",
       "0   19  female  27.900         0    yes  southwest  16884.92400\n",
       "1   18    male  33.770         1     no  southeast   1725.55230\n",
       "2   28    male  33.000         3     no  southeast   4449.46200\n",
       "3   33    male  22.705         0     no  northwest  21984.47061\n",
       "4   32    male  28.880         0     no  northwest   3866.85520"
      ]
     },
     "execution_count": 9,
     "metadata": {},
     "output_type": "execute_result"
    }
   ],
   "source": [
    "# Removing the outlier using IQR method\n",
    "q25 = np.percentile(data['charges'], 25), \n",
    "q75 = np.percentile(data['charges'], 75)\n",
    "iqr = q75 - q25\n",
    "\n",
    "# calculate the outlier cutoff\n",
    "cut_off = iqr*3.0\n",
    "lower, upper = q25 - cut_off, q75 + cut_off\n",
    "\n",
    "# identify outliers\n",
    "outliers = [x for x in data['charges'] if x < lower or x > upper]\n",
    "outliers\n",
    "\n",
    "# remove the outliers\n",
    "data1 = data[~data['bmi'].isin(outliers)]\n",
    "data1.head()"
   ]
  },
  {
   "cell_type": "code",
   "execution_count": 10,
   "metadata": {},
   "outputs": [
    {
     "data": {
      "text/html": [
       "<div>\n",
       "<style scoped>\n",
       "    .dataframe tbody tr th:only-of-type {\n",
       "        vertical-align: middle;\n",
       "    }\n",
       "\n",
       "    .dataframe tbody tr th {\n",
       "        vertical-align: top;\n",
       "    }\n",
       "\n",
       "    .dataframe thead th {\n",
       "        text-align: right;\n",
       "    }\n",
       "</style>\n",
       "<table border=\"1\" class=\"dataframe\">\n",
       "  <thead>\n",
       "    <tr style=\"text-align: right;\">\n",
       "      <th></th>\n",
       "      <th>age</th>\n",
       "      <th>sex</th>\n",
       "      <th>bmi</th>\n",
       "      <th>children</th>\n",
       "      <th>smoker</th>\n",
       "      <th>region</th>\n",
       "      <th>charges</th>\n",
       "    </tr>\n",
       "  </thead>\n",
       "  <tbody>\n",
       "    <tr>\n",
       "      <td>0</td>\n",
       "      <td>19</td>\n",
       "      <td>female</td>\n",
       "      <td>27.900</td>\n",
       "      <td>0</td>\n",
       "      <td>yes</td>\n",
       "      <td>southwest</td>\n",
       "      <td>16884.92400</td>\n",
       "    </tr>\n",
       "    <tr>\n",
       "      <td>1</td>\n",
       "      <td>18</td>\n",
       "      <td>male</td>\n",
       "      <td>33.770</td>\n",
       "      <td>1</td>\n",
       "      <td>no</td>\n",
       "      <td>southeast</td>\n",
       "      <td>1725.55230</td>\n",
       "    </tr>\n",
       "    <tr>\n",
       "      <td>2</td>\n",
       "      <td>28</td>\n",
       "      <td>male</td>\n",
       "      <td>33.000</td>\n",
       "      <td>3</td>\n",
       "      <td>no</td>\n",
       "      <td>southeast</td>\n",
       "      <td>4449.46200</td>\n",
       "    </tr>\n",
       "    <tr>\n",
       "      <td>3</td>\n",
       "      <td>33</td>\n",
       "      <td>male</td>\n",
       "      <td>22.705</td>\n",
       "      <td>0</td>\n",
       "      <td>no</td>\n",
       "      <td>northwest</td>\n",
       "      <td>21984.47061</td>\n",
       "    </tr>\n",
       "    <tr>\n",
       "      <td>4</td>\n",
       "      <td>32</td>\n",
       "      <td>male</td>\n",
       "      <td>28.880</td>\n",
       "      <td>0</td>\n",
       "      <td>no</td>\n",
       "      <td>northwest</td>\n",
       "      <td>3866.85520</td>\n",
       "    </tr>\n",
       "  </tbody>\n",
       "</table>\n",
       "</div>"
      ],
      "text/plain": [
       "   age     sex     bmi  children smoker     region      charges\n",
       "0   19  female  27.900         0    yes  southwest  16884.92400\n",
       "1   18    male  33.770         1     no  southeast   1725.55230\n",
       "2   28    male  33.000         3     no  southeast   4449.46200\n",
       "3   33    male  22.705         0     no  northwest  21984.47061\n",
       "4   32    male  28.880         0     no  northwest   3866.85520"
      ]
     },
     "execution_count": 10,
     "metadata": {},
     "output_type": "execute_result"
    }
   ],
   "source": [
    "## data encoding\n",
    "encoded_data = data1.copy()\n",
    "encoded_data.head()"
   ]
  },
  {
   "cell_type": "code",
   "execution_count": 11,
   "metadata": {},
   "outputs": [
    {
     "data": {
      "text/plain": [
       "Index(['age', 'sex', 'bmi', 'children', 'smoker', 'region', 'charges'], dtype='object')"
      ]
     },
     "execution_count": 11,
     "metadata": {},
     "output_type": "execute_result"
    }
   ],
   "source": [
    "encoded_data.columns"
   ]
  },
  {
   "cell_type": "code",
   "execution_count": 12,
   "metadata": {},
   "outputs": [],
   "source": [
    "for col,col_data in encoded_data.iteritems():\n",
    "    if col_data.dtype == object:\n",
    "        col_data = pd.get_dummies(col_data,drop_first=True, prefix = col)\n",
    "        encoded_data = encoded_data.join(col_data)\n",
    "        encoded_data = encoded_data.drop(col,axis=1)"
   ]
  },
  {
   "cell_type": "code",
   "execution_count": 13,
   "metadata": {},
   "outputs": [
    {
     "data": {
      "text/html": [
       "<div>\n",
       "<style scoped>\n",
       "    .dataframe tbody tr th:only-of-type {\n",
       "        vertical-align: middle;\n",
       "    }\n",
       "\n",
       "    .dataframe tbody tr th {\n",
       "        vertical-align: top;\n",
       "    }\n",
       "\n",
       "    .dataframe thead th {\n",
       "        text-align: right;\n",
       "    }\n",
       "</style>\n",
       "<table border=\"1\" class=\"dataframe\">\n",
       "  <thead>\n",
       "    <tr style=\"text-align: right;\">\n",
       "      <th></th>\n",
       "      <th>age</th>\n",
       "      <th>bmi</th>\n",
       "      <th>children</th>\n",
       "      <th>charges</th>\n",
       "      <th>sex_male</th>\n",
       "      <th>smoker_yes</th>\n",
       "      <th>region_northwest</th>\n",
       "      <th>region_southeast</th>\n",
       "      <th>region_southwest</th>\n",
       "    </tr>\n",
       "  </thead>\n",
       "  <tbody>\n",
       "    <tr>\n",
       "      <td>0</td>\n",
       "      <td>19</td>\n",
       "      <td>27.900</td>\n",
       "      <td>0</td>\n",
       "      <td>16884.92400</td>\n",
       "      <td>0</td>\n",
       "      <td>1</td>\n",
       "      <td>0</td>\n",
       "      <td>0</td>\n",
       "      <td>1</td>\n",
       "    </tr>\n",
       "    <tr>\n",
       "      <td>1</td>\n",
       "      <td>18</td>\n",
       "      <td>33.770</td>\n",
       "      <td>1</td>\n",
       "      <td>1725.55230</td>\n",
       "      <td>1</td>\n",
       "      <td>0</td>\n",
       "      <td>0</td>\n",
       "      <td>1</td>\n",
       "      <td>0</td>\n",
       "    </tr>\n",
       "    <tr>\n",
       "      <td>2</td>\n",
       "      <td>28</td>\n",
       "      <td>33.000</td>\n",
       "      <td>3</td>\n",
       "      <td>4449.46200</td>\n",
       "      <td>1</td>\n",
       "      <td>0</td>\n",
       "      <td>0</td>\n",
       "      <td>1</td>\n",
       "      <td>0</td>\n",
       "    </tr>\n",
       "    <tr>\n",
       "      <td>3</td>\n",
       "      <td>33</td>\n",
       "      <td>22.705</td>\n",
       "      <td>0</td>\n",
       "      <td>21984.47061</td>\n",
       "      <td>1</td>\n",
       "      <td>0</td>\n",
       "      <td>1</td>\n",
       "      <td>0</td>\n",
       "      <td>0</td>\n",
       "    </tr>\n",
       "    <tr>\n",
       "      <td>4</td>\n",
       "      <td>32</td>\n",
       "      <td>28.880</td>\n",
       "      <td>0</td>\n",
       "      <td>3866.85520</td>\n",
       "      <td>1</td>\n",
       "      <td>0</td>\n",
       "      <td>1</td>\n",
       "      <td>0</td>\n",
       "      <td>0</td>\n",
       "    </tr>\n",
       "    <tr>\n",
       "      <td>...</td>\n",
       "      <td>...</td>\n",
       "      <td>...</td>\n",
       "      <td>...</td>\n",
       "      <td>...</td>\n",
       "      <td>...</td>\n",
       "      <td>...</td>\n",
       "      <td>...</td>\n",
       "      <td>...</td>\n",
       "      <td>...</td>\n",
       "    </tr>\n",
       "    <tr>\n",
       "      <td>1333</td>\n",
       "      <td>50</td>\n",
       "      <td>30.970</td>\n",
       "      <td>3</td>\n",
       "      <td>10600.54830</td>\n",
       "      <td>1</td>\n",
       "      <td>0</td>\n",
       "      <td>1</td>\n",
       "      <td>0</td>\n",
       "      <td>0</td>\n",
       "    </tr>\n",
       "    <tr>\n",
       "      <td>1334</td>\n",
       "      <td>18</td>\n",
       "      <td>31.920</td>\n",
       "      <td>0</td>\n",
       "      <td>2205.98080</td>\n",
       "      <td>0</td>\n",
       "      <td>0</td>\n",
       "      <td>0</td>\n",
       "      <td>0</td>\n",
       "      <td>0</td>\n",
       "    </tr>\n",
       "    <tr>\n",
       "      <td>1335</td>\n",
       "      <td>18</td>\n",
       "      <td>36.850</td>\n",
       "      <td>0</td>\n",
       "      <td>1629.83350</td>\n",
       "      <td>0</td>\n",
       "      <td>0</td>\n",
       "      <td>0</td>\n",
       "      <td>1</td>\n",
       "      <td>0</td>\n",
       "    </tr>\n",
       "    <tr>\n",
       "      <td>1336</td>\n",
       "      <td>21</td>\n",
       "      <td>25.800</td>\n",
       "      <td>0</td>\n",
       "      <td>2007.94500</td>\n",
       "      <td>0</td>\n",
       "      <td>0</td>\n",
       "      <td>0</td>\n",
       "      <td>0</td>\n",
       "      <td>1</td>\n",
       "    </tr>\n",
       "    <tr>\n",
       "      <td>1337</td>\n",
       "      <td>61</td>\n",
       "      <td>29.070</td>\n",
       "      <td>0</td>\n",
       "      <td>29141.36030</td>\n",
       "      <td>0</td>\n",
       "      <td>1</td>\n",
       "      <td>1</td>\n",
       "      <td>0</td>\n",
       "      <td>0</td>\n",
       "    </tr>\n",
       "  </tbody>\n",
       "</table>\n",
       "<p>1338 rows × 9 columns</p>\n",
       "</div>"
      ],
      "text/plain": [
       "      age     bmi  children      charges  sex_male  smoker_yes  \\\n",
       "0      19  27.900         0  16884.92400         0           1   \n",
       "1      18  33.770         1   1725.55230         1           0   \n",
       "2      28  33.000         3   4449.46200         1           0   \n",
       "3      33  22.705         0  21984.47061         1           0   \n",
       "4      32  28.880         0   3866.85520         1           0   \n",
       "...   ...     ...       ...          ...       ...         ...   \n",
       "1333   50  30.970         3  10600.54830         1           0   \n",
       "1334   18  31.920         0   2205.98080         0           0   \n",
       "1335   18  36.850         0   1629.83350         0           0   \n",
       "1336   21  25.800         0   2007.94500         0           0   \n",
       "1337   61  29.070         0  29141.36030         0           1   \n",
       "\n",
       "      region_northwest  region_southeast  region_southwest  \n",
       "0                    0                 0                 1  \n",
       "1                    0                 1                 0  \n",
       "2                    0                 1                 0  \n",
       "3                    1                 0                 0  \n",
       "4                    1                 0                 0  \n",
       "...                ...               ...               ...  \n",
       "1333                 1                 0                 0  \n",
       "1334                 0                 0                 0  \n",
       "1335                 0                 1                 0  \n",
       "1336                 0                 0                 1  \n",
       "1337                 1                 0                 0  \n",
       "\n",
       "[1338 rows x 9 columns]"
      ]
     },
     "execution_count": 13,
     "metadata": {},
     "output_type": "execute_result"
    }
   ],
   "source": [
    "encoded_data"
   ]
  },
  {
   "cell_type": "code",
   "execution_count": 14,
   "metadata": {},
   "outputs": [
    {
     "data": {
      "text/plain": [
       "Index(['age', 'bmi', 'children', 'charges', 'sex_male', 'smoker_yes',\n",
       "       'region_northwest', 'region_southeast', 'region_southwest'],\n",
       "      dtype='object')"
      ]
     },
     "execution_count": 14,
     "metadata": {},
     "output_type": "execute_result"
    }
   ],
   "source": [
    "encoded_data.columns"
   ]
  },
  {
   "cell_type": "code",
   "execution_count": 15,
   "metadata": {},
   "outputs": [
    {
     "data": {
      "text/html": [
       "<div>\n",
       "<style scoped>\n",
       "    .dataframe tbody tr th:only-of-type {\n",
       "        vertical-align: middle;\n",
       "    }\n",
       "\n",
       "    .dataframe tbody tr th {\n",
       "        vertical-align: top;\n",
       "    }\n",
       "\n",
       "    .dataframe thead th {\n",
       "        text-align: right;\n",
       "    }\n",
       "</style>\n",
       "<table border=\"1\" class=\"dataframe\">\n",
       "  <thead>\n",
       "    <tr style=\"text-align: right;\">\n",
       "      <th></th>\n",
       "      <th>age</th>\n",
       "      <th>bmi</th>\n",
       "      <th>children</th>\n",
       "      <th>charges</th>\n",
       "      <th>sex_male</th>\n",
       "      <th>smoker_yes</th>\n",
       "      <th>region_northwest</th>\n",
       "      <th>region_southeast</th>\n",
       "      <th>region_southwest</th>\n",
       "    </tr>\n",
       "  </thead>\n",
       "  <tbody>\n",
       "    <tr>\n",
       "      <td>age</td>\n",
       "      <td>1.000000</td>\n",
       "      <td>0.109272</td>\n",
       "      <td>0.042469</td>\n",
       "      <td>0.299008</td>\n",
       "      <td>-0.020856</td>\n",
       "      <td>-0.025019</td>\n",
       "      <td>-0.000407</td>\n",
       "      <td>-0.011642</td>\n",
       "      <td>0.010016</td>\n",
       "    </tr>\n",
       "    <tr>\n",
       "      <td>bmi</td>\n",
       "      <td>0.109272</td>\n",
       "      <td>1.000000</td>\n",
       "      <td>0.012759</td>\n",
       "      <td>0.198341</td>\n",
       "      <td>0.046371</td>\n",
       "      <td>0.003750</td>\n",
       "      <td>-0.135996</td>\n",
       "      <td>0.270025</td>\n",
       "      <td>-0.006205</td>\n",
       "    </tr>\n",
       "    <tr>\n",
       "      <td>children</td>\n",
       "      <td>0.042469</td>\n",
       "      <td>0.012759</td>\n",
       "      <td>1.000000</td>\n",
       "      <td>0.067998</td>\n",
       "      <td>0.017163</td>\n",
       "      <td>0.007673</td>\n",
       "      <td>0.024806</td>\n",
       "      <td>-0.023066</td>\n",
       "      <td>0.021914</td>\n",
       "    </tr>\n",
       "    <tr>\n",
       "      <td>charges</td>\n",
       "      <td>0.299008</td>\n",
       "      <td>0.198341</td>\n",
       "      <td>0.067998</td>\n",
       "      <td>1.000000</td>\n",
       "      <td>0.057292</td>\n",
       "      <td>0.787251</td>\n",
       "      <td>-0.039905</td>\n",
       "      <td>0.073982</td>\n",
       "      <td>-0.043210</td>\n",
       "    </tr>\n",
       "    <tr>\n",
       "      <td>sex_male</td>\n",
       "      <td>-0.020856</td>\n",
       "      <td>0.046371</td>\n",
       "      <td>0.017163</td>\n",
       "      <td>0.057292</td>\n",
       "      <td>1.000000</td>\n",
       "      <td>0.076185</td>\n",
       "      <td>-0.011156</td>\n",
       "      <td>0.017117</td>\n",
       "      <td>-0.004184</td>\n",
       "    </tr>\n",
       "    <tr>\n",
       "      <td>smoker_yes</td>\n",
       "      <td>-0.025019</td>\n",
       "      <td>0.003750</td>\n",
       "      <td>0.007673</td>\n",
       "      <td>0.787251</td>\n",
       "      <td>0.076185</td>\n",
       "      <td>1.000000</td>\n",
       "      <td>-0.036945</td>\n",
       "      <td>0.068498</td>\n",
       "      <td>-0.036945</td>\n",
       "    </tr>\n",
       "    <tr>\n",
       "      <td>region_northwest</td>\n",
       "      <td>-0.000407</td>\n",
       "      <td>-0.135996</td>\n",
       "      <td>0.024806</td>\n",
       "      <td>-0.039905</td>\n",
       "      <td>-0.011156</td>\n",
       "      <td>-0.036945</td>\n",
       "      <td>1.000000</td>\n",
       "      <td>-0.346265</td>\n",
       "      <td>-0.320829</td>\n",
       "    </tr>\n",
       "    <tr>\n",
       "      <td>region_southeast</td>\n",
       "      <td>-0.011642</td>\n",
       "      <td>0.270025</td>\n",
       "      <td>-0.023066</td>\n",
       "      <td>0.073982</td>\n",
       "      <td>0.017117</td>\n",
       "      <td>0.068498</td>\n",
       "      <td>-0.346265</td>\n",
       "      <td>1.000000</td>\n",
       "      <td>-0.346265</td>\n",
       "    </tr>\n",
       "    <tr>\n",
       "      <td>region_southwest</td>\n",
       "      <td>0.010016</td>\n",
       "      <td>-0.006205</td>\n",
       "      <td>0.021914</td>\n",
       "      <td>-0.043210</td>\n",
       "      <td>-0.004184</td>\n",
       "      <td>-0.036945</td>\n",
       "      <td>-0.320829</td>\n",
       "      <td>-0.346265</td>\n",
       "      <td>1.000000</td>\n",
       "    </tr>\n",
       "  </tbody>\n",
       "</table>\n",
       "</div>"
      ],
      "text/plain": [
       "                       age       bmi  children   charges  sex_male  \\\n",
       "age               1.000000  0.109272  0.042469  0.299008 -0.020856   \n",
       "bmi               0.109272  1.000000  0.012759  0.198341  0.046371   \n",
       "children          0.042469  0.012759  1.000000  0.067998  0.017163   \n",
       "charges           0.299008  0.198341  0.067998  1.000000  0.057292   \n",
       "sex_male         -0.020856  0.046371  0.017163  0.057292  1.000000   \n",
       "smoker_yes       -0.025019  0.003750  0.007673  0.787251  0.076185   \n",
       "region_northwest -0.000407 -0.135996  0.024806 -0.039905 -0.011156   \n",
       "region_southeast -0.011642  0.270025 -0.023066  0.073982  0.017117   \n",
       "region_southwest  0.010016 -0.006205  0.021914 -0.043210 -0.004184   \n",
       "\n",
       "                  smoker_yes  region_northwest  region_southeast  \\\n",
       "age                -0.025019         -0.000407         -0.011642   \n",
       "bmi                 0.003750         -0.135996          0.270025   \n",
       "children            0.007673          0.024806         -0.023066   \n",
       "charges             0.787251         -0.039905          0.073982   \n",
       "sex_male            0.076185         -0.011156          0.017117   \n",
       "smoker_yes          1.000000         -0.036945          0.068498   \n",
       "region_northwest   -0.036945          1.000000         -0.346265   \n",
       "region_southeast    0.068498         -0.346265          1.000000   \n",
       "region_southwest   -0.036945         -0.320829         -0.346265   \n",
       "\n",
       "                  region_southwest  \n",
       "age                       0.010016  \n",
       "bmi                      -0.006205  \n",
       "children                  0.021914  \n",
       "charges                  -0.043210  \n",
       "sex_male                 -0.004184  \n",
       "smoker_yes               -0.036945  \n",
       "region_northwest         -0.320829  \n",
       "region_southeast         -0.346265  \n",
       "region_southwest          1.000000  "
      ]
     },
     "execution_count": 15,
     "metadata": {},
     "output_type": "execute_result"
    }
   ],
   "source": [
    "# Check the correlation\n",
    "correlations = encoded_data.corr()\n",
    "correlations"
   ]
  },
  {
   "cell_type": "code",
   "execution_count": 16,
   "metadata": {},
   "outputs": [
    {
     "data": {
      "image/png": "[encoded data removed]",
      "text/plain": [
       "<Figure size 1152x648 with 2 Axes>"
      ]
     },
     "metadata": {
      "needs_background": "light"
     },
     "output_type": "display_data"
    }
   ],
   "source": [
    "#Heatmap to visualize the correlation\n",
    "plt.figure(figsize=(16,9))\n",
    "ax = sns.heatmap(correlations,annot=True,cmap='coolwarm',annot_kws={'size': 15})\n",
    "bottom, top = ax.get_ylim()\n",
    "ax.set_ylim(bottom + 0.5, top - 0.5)\n",
    "plt.title('correlations')\n",
    "plt.show()"
   ]
  },
  {
   "cell_type": "code",
   "execution_count": 17,
   "metadata": {},
   "outputs": [],
   "source": [
    "# Scale the data using StandardScaler\n",
    "std = StandardScaler()\n",
    "df_std = std.fit_transform(encoded_data)\n",
    "df_std = pd.DataFrame(df_std, columns = encoded_data.columns)"
   ]
  },
  {
   "cell_type": "code",
   "execution_count": 18,
   "metadata": {},
   "outputs": [
    {
     "data": {
      "text/html": [
       "<div>\n",
       "<style scoped>\n",
       "    .dataframe tbody tr th:only-of-type {\n",
       "        vertical-align: middle;\n",
       "    }\n",
       "\n",
       "    .dataframe tbody tr th {\n",
       "        vertical-align: top;\n",
       "    }\n",
       "\n",
       "    .dataframe thead th {\n",
       "        text-align: right;\n",
       "    }\n",
       "</style>\n",
       "<table border=\"1\" class=\"dataframe\">\n",
       "  <thead>\n",
       "    <tr style=\"text-align: right;\">\n",
       "      <th></th>\n",
       "      <th>age</th>\n",
       "      <th>bmi</th>\n",
       "      <th>children</th>\n",
       "      <th>charges</th>\n",
       "      <th>sex_male</th>\n",
       "      <th>smoker_yes</th>\n",
       "      <th>region_northwest</th>\n",
       "      <th>region_southeast</th>\n",
       "      <th>region_southwest</th>\n",
       "    </tr>\n",
       "  </thead>\n",
       "  <tbody>\n",
       "    <tr>\n",
       "      <td>0</td>\n",
       "      <td>-1.438764</td>\n",
       "      <td>-0.453320</td>\n",
       "      <td>-0.908614</td>\n",
       "      <td>0.298584</td>\n",
       "      <td>-1.010519</td>\n",
       "      <td>1.970587</td>\n",
       "      <td>-0.566418</td>\n",
       "      <td>-0.611324</td>\n",
       "      <td>1.765481</td>\n",
       "    </tr>\n",
       "    <tr>\n",
       "      <td>1</td>\n",
       "      <td>-1.509965</td>\n",
       "      <td>0.509621</td>\n",
       "      <td>-0.078767</td>\n",
       "      <td>-0.953689</td>\n",
       "      <td>0.989591</td>\n",
       "      <td>-0.507463</td>\n",
       "      <td>-0.566418</td>\n",
       "      <td>1.635795</td>\n",
       "      <td>-0.566418</td>\n",
       "    </tr>\n",
       "    <tr>\n",
       "      <td>2</td>\n",
       "      <td>-0.797954</td>\n",
       "      <td>0.383307</td>\n",
       "      <td>1.580926</td>\n",
       "      <td>-0.728675</td>\n",
       "      <td>0.989591</td>\n",
       "      <td>-0.507463</td>\n",
       "      <td>-0.566418</td>\n",
       "      <td>1.635795</td>\n",
       "      <td>-0.566418</td>\n",
       "    </tr>\n",
       "    <tr>\n",
       "      <td>3</td>\n",
       "      <td>-0.441948</td>\n",
       "      <td>-1.305531</td>\n",
       "      <td>-0.908614</td>\n",
       "      <td>0.719843</td>\n",
       "      <td>0.989591</td>\n",
       "      <td>-0.507463</td>\n",
       "      <td>1.765481</td>\n",
       "      <td>-0.611324</td>\n",
       "      <td>-0.566418</td>\n",
       "    </tr>\n",
       "    <tr>\n",
       "      <td>4</td>\n",
       "      <td>-0.513149</td>\n",
       "      <td>-0.292556</td>\n",
       "      <td>-0.908614</td>\n",
       "      <td>-0.776802</td>\n",
       "      <td>0.989591</td>\n",
       "      <td>-0.507463</td>\n",
       "      <td>1.765481</td>\n",
       "      <td>-0.611324</td>\n",
       "      <td>-0.566418</td>\n",
       "    </tr>\n",
       "  </tbody>\n",
       "</table>\n",
       "</div>"
      ],
      "text/plain": [
       "        age       bmi  children   charges  sex_male  smoker_yes  \\\n",
       "0 -1.438764 -0.453320 -0.908614  0.298584 -1.010519    1.970587   \n",
       "1 -1.509965  0.509621 -0.078767 -0.953689  0.989591   -0.507463   \n",
       "2 -0.797954  0.383307  1.580926 -0.728675  0.989591   -0.507463   \n",
       "3 -0.441948 -1.305531 -0.908614  0.719843  0.989591   -0.507463   \n",
       "4 -0.513149 -0.292556 -0.908614 -0.776802  0.989591   -0.507463   \n",
       "\n",
       "   region_northwest  region_southeast  region_southwest  \n",
       "0         -0.566418         -0.611324          1.765481  \n",
       "1         -0.566418          1.635795         -0.566418  \n",
       "2         -0.566418          1.635795         -0.566418  \n",
       "3          1.765481         -0.611324         -0.566418  \n",
       "4          1.765481         -0.611324         -0.566418  "
      ]
     },
     "execution_count": 18,
     "metadata": {},
     "output_type": "execute_result"
    }
   ],
   "source": [
    "df_std.head()"
   ]
  },
  {
   "cell_type": "code",
   "execution_count": 19,
   "metadata": {},
   "outputs": [],
   "source": [
    "#feature and target\n",
    "X = df_std.drop('charges',axis = 1)\n",
    "y = df_std['charges']"
   ]
  },
  {
   "cell_type": "code",
   "execution_count": 20,
   "metadata": {},
   "outputs": [
    {
     "data": {
      "text/plain": [
       "Index(['age', 'bmi', 'children', 'sex_male', 'smoker_yes', 'region_northwest',\n",
       "       'region_southeast', 'region_southwest'],\n",
       "      dtype='object')"
      ]
     },
     "execution_count": 20,
     "metadata": {},
     "output_type": "execute_result"
    }
   ],
   "source": [
    "X.columns"
   ]
  },
  {
   "cell_type": "code",
   "execution_count": 21,
   "metadata": {},
   "outputs": [],
   "source": [
    "#Splitting the data into Train and Test\n",
    "from sklearn.model_selection import train_test_split\n",
    "X_train,X_test,y_train,y_test = train_test_split(X,y,test_size = 0.3,random_state = 0)"
   ]
  },
  {
   "cell_type": "markdown",
   "metadata": {},
   "source": [
    "## Linear Regression"
   ]
  },
  {
   "cell_type": "code",
   "execution_count": 22,
   "metadata": {},
   "outputs": [],
   "source": [
    "linearregressor = LinearRegression()\n",
    "linearregressor.fit(X_train,y_train)\n",
    "y_lr_pred = linearregressor.predict(X_test)"
   ]
  },
  {
   "cell_type": "code",
   "execution_count": 23,
   "metadata": {},
   "outputs": [
    {
     "name": "stdout",
     "output_type": "stream",
     "text": [
      "-0.006322917259176027\n",
      "[ 0.29751482  0.16888038  0.04705596 -0.00196374  0.78125195 -0.01990527\n",
      " -0.03656834 -0.02832036]\n",
      "0.7505667109493459\n"
     ]
    }
   ],
   "source": [
    "# print intercept and coefficients\n",
    "print(linearregressor.intercept_)\n",
    "print(linearregressor.coef_)\n",
    "print(linearregressor.score(X,y))"
   ]
  },
  {
   "cell_type": "code",
   "execution_count": 24,
   "metadata": {},
   "outputs": [
    {
     "data": {
      "text/plain": [
       "<matplotlib.collections.PathCollection at 0x283c0415508>"
      ]
     },
     "execution_count": 24,
     "metadata": {},
     "output_type": "execute_result"
    },
    {
     "data": {
      "image/png": "[encoded data removed]",
      "text/plain": [
       "<Figure size 432x288 with 1 Axes>"
      ]
     },
     "metadata": {
      "needs_background": "light"
     },
     "output_type": "display_data"
    }
   ],
   "source": [
    "plt.scatter(y_lr_pred, y_test)"
   ]
  },
  {
   "cell_type": "code",
   "execution_count": 25,
   "metadata": {},
   "outputs": [
    {
     "name": "stdout",
     "output_type": "stream",
     "text": [
      "Linear Regression - R2 Score :  0.7909160991789904\n",
      "Linear Regression - Mean Square Error :  0.22752742168561832\n",
      "Linear Regression - Root Mean Square Error :  0.4769983455795401\n"
     ]
    }
   ],
   "source": [
    "# Linear Regression Model Evaluation\n",
    "#find out r-squared\n",
    "r2_score = r2_score(y_test, y_lr_pred, sample_weight=None, multioutput='uniform_average')\n",
    "print(\"Linear Regression - R2 Score : \",r2_score)\n",
    "\n",
    "# find out mean suqred error\n",
    "mse = mean_squared_error(y_test, y_lr_pred)\n",
    "rmse = np.sqrt(mean_squared_error(y_test, y_lr_pred)) \n",
    "print(\"Linear Regression - Mean Square Error : \", mse)\n",
    "print(\"Linear Regression - Root Mean Square Error : \", rmse) "
   ]
  },
  {
   "cell_type": "code",
   "execution_count": 26,
   "metadata": {},
   "outputs": [
    {
     "data": {
      "image/png": "[encoded data removed]",
      "text/plain": [
       "<Figure size 432x288 with 1 Axes>"
      ]
     },
     "metadata": {
      "needs_background": "light"
     },
     "output_type": "display_data"
    }
   ],
   "source": [
    "#Visualize goodness of fit\n",
    "from sklearn.model_selection import cross_val_predict\n",
    "fig, ax = plt.subplots()\n",
    "ax.scatter(y_test, y_lr_pred, edgecolors=(0, 0, 0))\n",
    "ax.plot([y_test.min(), y_test.max()], [y_lr_pred.min(), y_lr_pred.max()], 'k--', lw=4)\n",
    "plt.xlabel('Actual')\n",
    "plt.ylabel('Predicted')\n",
    "plt.title(\"Ground Truth vs Predicted\")\n",
    "plt.show()"
   ]
  },
  {
   "cell_type": "code",
   "execution_count": 27,
   "metadata": {},
   "outputs": [
    {
     "data": {
      "text/plain": [
       "<matplotlib.collections.PathCollection at 0x283bee16148>"
      ]
     },
     "execution_count": 27,
     "metadata": {},
     "output_type": "execute_result"
    },
    {
     "data": {
      "image/png": "[encoded data removed]",
      "text/plain": [
       "<Figure size 432x288 with 1 Axes>"
      ]
     },
     "metadata": {
      "needs_background": "light"
     },
     "output_type": "display_data"
    }
   ],
   "source": [
    "plt.scatter(y_lr_pred, y_test)"
   ]
  },
  {
   "cell_type": "markdown",
   "metadata": {},
   "source": [
    "#### Calculating the Score"
   ]
  },
  {
   "cell_type": "code",
   "execution_count": 28,
   "metadata": {},
   "outputs": [
    {
     "data": {
      "text/plain": [
       "0.7309569871174701"
      ]
     },
     "execution_count": 28,
     "metadata": {},
     "output_type": "execute_result"
    }
   ],
   "source": [
    "linearregressor.score(X_train,y_train)"
   ]
  },
  {
   "cell_type": "code",
   "execution_count": 29,
   "metadata": {},
   "outputs": [
    {
     "data": {
      "text/plain": [
       "0.7909160991789904"
      ]
     },
     "execution_count": 29,
     "metadata": {},
     "output_type": "execute_result"
    }
   ],
   "source": [
    "linearregressor.score(X_test,y_test)"
   ]
  },
  {
   "cell_type": "markdown",
   "metadata": {},
   "source": [
    "## Decision Tree"
   ]
  },
  {
   "cell_type": "code",
   "execution_count": 30,
   "metadata": {},
   "outputs": [
    {
     "data": {
      "text/plain": [
       "DecisionTreeRegressor(random_state=0)"
      ]
     },
     "execution_count": 30,
     "metadata": {},
     "output_type": "execute_result"
    }
   ],
   "source": [
    "from sklearn.tree import DecisionTreeRegressor\n",
    "decisionregressor = DecisionTreeRegressor(random_state = 0)\n",
    "decisionregressor.fit(X_train,y_train)"
   ]
  },
  {
   "cell_type": "code",
   "execution_count": 31,
   "metadata": {},
   "outputs": [],
   "source": [
    "#Predicting the Test set results\n",
    "y_dt_pred = decisionregressor.predict(X_test)"
   ]
  },
  {
   "cell_type": "code",
   "execution_count": 32,
   "metadata": {},
   "outputs": [
    {
     "data": {
      "text/plain": [
       "<matplotlib.collections.PathCollection at 0x283bee7ec08>"
      ]
     },
     "execution_count": 32,
     "metadata": {},
     "output_type": "execute_result"
    },
    {
     "data": {
      "image/png": "[encoded data removed]",
      "text/plain": [
       "<Figure size 432x288 with 1 Axes>"
      ]
     },
     "metadata": {
      "needs_background": "light"
     },
     "output_type": "display_data"
    }
   ],
   "source": [
    "plt.scatter(y_dt_pred, y_test)"
   ]
  },
  {
   "cell_type": "code",
   "execution_count": 33,
   "metadata": {},
   "outputs": [
    {
     "name": "stdout",
     "output_type": "stream",
     "text": [
      "Decision Tree - R2 Score :  0.7236113654503731\n",
      "Decision Tree - Mean Square Error :  0.30076918000549474\n",
      "Decision Tree - Root Mean Square Error :  0.5484242700733573\n"
     ]
    }
   ],
   "source": [
    "# Decision Tree Model Evaluation\n",
    "\n",
    "#find out r-squared\n",
    "from sklearn.metrics import r2_score\n",
    "r2_score = r2_score(y_test, y_dt_pred, sample_weight=None, multioutput='uniform_average')\n",
    "print(\"Decision Tree - R2 Score : \",r2_score)\n",
    "\n",
    "# find out mean suqred error\n",
    "from sklearn.metrics import mean_squared_error\n",
    "mse = mean_squared_error(y_test, y_dt_pred)\n",
    "rmse = np.sqrt(mean_squared_error(y_test, y_dt_pred))\n",
    "print(\"Decision Tree - Mean Square Error : \", mse)\n",
    "print(\"Decision Tree - Root Mean Square Error : \", rmse) "
   ]
  },
  {
   "cell_type": "markdown",
   "metadata": {},
   "source": [
    "## Random Forest"
   ]
  },
  {
   "cell_type": "code",
   "execution_count": 34,
   "metadata": {},
   "outputs": [
    {
     "data": {
      "text/plain": [
       "RandomForestRegressor(n_estimators=10, random_state=0)"
      ]
     },
     "execution_count": 34,
     "metadata": {},
     "output_type": "execute_result"
    }
   ],
   "source": [
    "# Fitting the Random Forest Regression to dataset(with 10 trees)\n",
    "from sklearn.ensemble import RandomForestRegressor\n",
    "randomforestregressor = RandomForestRegressor(n_estimators=10,random_state = 0)\n",
    "randomforestregressor.fit(X_train,y_train)"
   ]
  },
  {
   "cell_type": "code",
   "execution_count": 35,
   "metadata": {},
   "outputs": [],
   "source": [
    "#Predicting the Test set results\n",
    "y_rf_pred = randomforestregressor.predict(X_test)"
   ]
  },
  {
   "cell_type": "code",
   "execution_count": 36,
   "metadata": {},
   "outputs": [
    {
     "data": {
      "text/plain": [
       "<matplotlib.collections.PathCollection at 0x283beee9e88>"
      ]
     },
     "execution_count": 36,
     "metadata": {},
     "output_type": "execute_result"
    },
    {
     "data": {
      "image/png": "[encoded data removed]",
      "text/plain": [
       "<Figure size 432x288 with 1 Axes>"
      ]
     },
     "metadata": {
      "needs_background": "light"
     },
     "output_type": "display_data"
    }
   ],
   "source": [
    "plt.scatter(y_rf_pred, y_test)"
   ]
  },
  {
   "cell_type": "code",
   "execution_count": 37,
   "metadata": {},
   "outputs": [
    {
     "name": "stdout",
     "output_type": "stream",
     "text": [
      "Random Forest - R2 Score :  0.8312006720151037\n",
      "Random Forest - Mean Square Error :  0.1836893023702821\n",
      "Random Forest - Root Mean Square Error :  0.428589899986318\n"
     ]
    }
   ],
   "source": [
    "# Decision Tree Model Evaluation\n",
    "\n",
    "#find out r-squared\n",
    "from sklearn.metrics import r2_score\n",
    "r2_score = r2_score(y_test, y_rf_pred, sample_weight=None, multioutput='uniform_average')\n",
    "print(\"Random Forest - R2 Score : \",r2_score)\n",
    "\n",
    "# find out mean suqred error\n",
    "from sklearn.metrics import mean_squared_error\n",
    "mse = mean_squared_error(y_test, y_rf_pred)\n",
    "rmse = np.sqrt(mean_squared_error(y_test, y_rf_pred))\n",
    "print(\"Random Forest - Mean Square Error : \", mse)\n",
    "print(\"Random Forest - Root Mean Square Error : \", rmse)"
   ]
  },
  {
   "cell_type": "markdown",
   "metadata": {},
   "source": [
    "## AdaBoost"
   ]
  },
  {
   "cell_type": "code",
   "execution_count": 38,
   "metadata": {},
   "outputs": [
    {
     "data": {
      "text/plain": [
       "AdaBoostRegressor(n_estimators=10, random_state=0)"
      ]
     },
     "execution_count": 38,
     "metadata": {},
     "output_type": "execute_result"
    }
   ],
   "source": [
    "# Fitting the AdaBoost Regression to dataset\n",
    "from sklearn.ensemble import AdaBoostRegressor\n",
    "AdaBoostRegressor = AdaBoostRegressor(n_estimators=10,random_state = 0)\n",
    "AdaBoostRegressor.fit(X_train,y_train)"
   ]
  },
  {
   "cell_type": "code",
   "execution_count": 39,
   "metadata": {},
   "outputs": [],
   "source": [
    "#Predicting the Test set results\n",
    "y_ab_pred = AdaBoostRegressor.predict(X_test)"
   ]
  },
  {
   "cell_type": "code",
   "execution_count": 40,
   "metadata": {},
   "outputs": [
    {
     "data": {
      "text/plain": [
       "<matplotlib.collections.PathCollection at 0x283bef4aac8>"
      ]
     },
     "execution_count": 40,
     "metadata": {},
     "output_type": "execute_result"
    },
    {
     "data": {
      "image/png": "[encoded data removed]",
      "text/plain": [
       "<Figure size 432x288 with 1 Axes>"
      ]
     },
     "metadata": {
      "needs_background": "light"
     },
     "output_type": "display_data"
    }
   ],
   "source": [
    "plt.scatter(y_ab_pred, y_test)"
   ]
  },
  {
   "cell_type": "code",
   "execution_count": 41,
   "metadata": {},
   "outputs": [
    {
     "name": "stdout",
     "output_type": "stream",
     "text": [
      "Ada Boost - R2 Score :  0.8447476929154871\n",
      "Ada Boost - Mean Square Error :  0.16894728385579055\n",
      "Ada Boost - Root Mean Square Error :  0.41103197424992444\n"
     ]
    }
   ],
   "source": [
    "# AdaBoost Model Evaluation\n",
    "\n",
    "#find out r-squared\n",
    "from sklearn.metrics import r2_score\n",
    "r2_score = r2_score(y_test, y_ab_pred, sample_weight=None, multioutput='uniform_average')\n",
    "print(\"Ada Boost - R2 Score : \",r2_score)\n",
    "\n",
    "# find out mean suqred error\n",
    "from sklearn.metrics import mean_squared_error\n",
    "mse = mean_squared_error(y_test, y_ab_pred)\n",
    "rmse = np.sqrt(mean_squared_error(y_test, y_ab_pred))\n",
    "print(\"Ada Boost - Mean Square Error : \", mse)\n",
    "print(\"Ada Boost - Root Mean Square Error : \", rmse)"
   ]
  },
  {
   "cell_type": "markdown",
   "metadata": {},
   "source": [
    "## Gradient Boosting"
   ]
  },
  {
   "cell_type": "code",
   "execution_count": 42,
   "metadata": {},
   "outputs": [
    {
     "data": {
      "text/plain": [
       "GradientBoostingRegressor(n_estimators=10, random_state=0)"
      ]
     },
     "execution_count": 42,
     "metadata": {},
     "output_type": "execute_result"
    }
   ],
   "source": [
    "# Fitting the Gradient Boosting Regression to dataset\n",
    "from sklearn.ensemble import GradientBoostingRegressor\n",
    "GradientBoosting = GradientBoostingRegressor(n_estimators=10,random_state = 0)\n",
    "GradientBoosting.fit(X_train,y_train)"
   ]
  },
  {
   "cell_type": "code",
   "execution_count": 43,
   "metadata": {},
   "outputs": [],
   "source": [
    "#Predicting the Test set results\n",
    "y_gb_pred = GradientBoosting.predict(X_test)"
   ]
  },
  {
   "cell_type": "code",
   "execution_count": 44,
   "metadata": {},
   "outputs": [
    {
     "data": {
      "text/plain": [
       "<matplotlib.collections.PathCollection at 0x283befb8888>"
      ]
     },
     "execution_count": 44,
     "metadata": {},
     "output_type": "execute_result"
    },
    {
     "data": {
      "image/png": "[encoded data removed]",
      "text/plain": [
       "<Figure size 432x288 with 1 Axes>"
      ]
     },
     "metadata": {
      "needs_background": "light"
     },
     "output_type": "display_data"
    }
   ],
   "source": [
    "plt.scatter(y_gb_pred, y_test)"
   ]
  },
  {
   "cell_type": "code",
   "execution_count": 45,
   "metadata": {},
   "outputs": [
    {
     "name": "stdout",
     "output_type": "stream",
     "text": [
      "Gradient Boost - R2 Score :  0.7835945902932497\n",
      "Gradient Boost - Mean Square Error :  0.23549476892316096\n",
      "Gradient Boost - Root Mean Square Error :  0.485278032599005\n"
     ]
    }
   ],
   "source": [
    "# Gradient Boost Model Evaluation\n",
    "\n",
    "#find out r-squared\n",
    "from sklearn.metrics import r2_score\n",
    "r2_score = r2_score(y_test, y_gb_pred, sample_weight=None, multioutput='uniform_average')\n",
    "print(\"Gradient Boost - R2 Score : \",r2_score)\n",
    "\n",
    "# find out mean suqred error\n",
    "from sklearn.metrics import mean_squared_error\n",
    "mse = mean_squared_error(y_test, y_gb_pred)\n",
    "rmse = np.sqrt(mean_squared_error(y_test, y_gb_pred))\n",
    "print(\"Gradient Boost - Mean Square Error : \", mse)\n",
    "print(\"Gradient Boost - Root Mean Square Error : \", rmse)"
   ]
  },
  {
   "cell_type": "markdown",
   "metadata": {},
   "source": [
    "## XGBoost"
   ]
  },
  {
   "cell_type": "code",
   "execution_count": 46,
   "metadata": {},
   "outputs": [],
   "source": [
    "#hyper parameter optimization\n",
    "\n",
    "params = {\n",
    "    \"colsample_bytree\":[0.5,0.6,0.7,0.8,0.9,1.0,1.1,1.2,1.3,1.4,1.5],\n",
    "    \"gamma\"           :[0.0,0.1,0.2,0.3,0.4],\n",
    "    \"learning_rate\"   :[0.05,0.10,0.15,0.20,0.25,0.30],\n",
    "    \"max_depth\"       :[3,4,5,6,7,8,9,10,11,12,13,14,15],\n",
    "    \"n_estimators\"    :[5,6,7,8,9,10,11,12]\n",
    "}"
   ]
  },
  {
   "cell_type": "code",
   "execution_count": 47,
   "metadata": {},
   "outputs": [],
   "source": [
    "regressor = XGBRegressor()"
   ]
  },
  {
   "cell_type": "code",
   "execution_count": 48,
   "metadata": {},
   "outputs": [
    {
     "name": "stderr",
     "output_type": "stream",
     "text": [
      "C:\\Users\\abdewang.ORADEV\\AppData\\anaconda3\\lib\\site-packages\\sklearn\\model_selection\\_validation.py:614: FitFailedWarning: Estimator fit failed. The score on this train-test partition for these parameters will be set to nan. Details: \n",
      "Traceback (most recent call last):\n",
      "  File \"C:\\Users\\abdewang.ORADEV\\AppData\\anaconda3\\lib\\site-packages\\sklearn\\model_selection\\_validation.py\", line 593, in _fit_and_score\n",
      "    estimator.fit(X_train, y_train, **fit_params)\n",
      "  File \"C:\\Users\\abdewang.ORADEV\\AppData\\anaconda3\\lib\\site-packages\\xgboost\\sklearn.py\", line 549, in fit\n",
      "    callbacks=callbacks)\n",
      "  File \"C:\\Users\\abdewang.ORADEV\\AppData\\anaconda3\\lib\\site-packages\\xgboost\\training.py\", line 209, in train\n",
      "    xgb_model=xgb_model, callbacks=callbacks)\n",
      "  File \"C:\\Users\\abdewang.ORADEV\\AppData\\anaconda3\\lib\\site-packages\\xgboost\\training.py\", line 74, in _train_internal\n",
      "    bst.update(dtrain, i, obj)\n",
      "  File \"C:\\Users\\abdewang.ORADEV\\AppData\\anaconda3\\lib\\site-packages\\xgboost\\core.py\", line 1249, in update\n",
      "    dtrain.handle))\n",
      "  File \"C:\\Users\\abdewang.ORADEV\\AppData\\anaconda3\\lib\\site-packages\\xgboost\\core.py\", line 189, in _check_call\n",
      "    raise XGBoostError(py_str(_LIB.XGBGetLastError()))\n",
      "xgboost.core.XGBoostError: value 1.4 for Parameter colsample_bytree exceed bound [0,1]\n",
      "colsample_bytree: Subsample ratio of columns, resample on each tree construction.\n",
      "\n",
      "  FitFailedWarning)\n",
      "C:\\Users\\abdewang.ORADEV\\AppData\\anaconda3\\lib\\site-packages\\sklearn\\model_selection\\_validation.py:614: FitFailedWarning: Estimator fit failed. The score on this train-test partition for these parameters will be set to nan. Details: \n",
      "Traceback (most recent call last):\n",
      "  File \"C:\\Users\\abdewang.ORADEV\\AppData\\anaconda3\\lib\\site-packages\\sklearn\\model_selection\\_validation.py\", line 593, in _fit_and_score\n",
      "    estimator.fit(X_train, y_train, **fit_params)\n",
      "  File \"C:\\Users\\abdewang.ORADEV\\AppData\\anaconda3\\lib\\site-packages\\xgboost\\sklearn.py\", line 549, in fit\n",
      "    callbacks=callbacks)\n",
      "  File \"C:\\Users\\abdewang.ORADEV\\AppData\\anaconda3\\lib\\site-packages\\xgboost\\training.py\", line 209, in train\n",
      "    xgb_model=xgb_model, callbacks=callbacks)\n",
      "  File \"C:\\Users\\abdewang.ORADEV\\AppData\\anaconda3\\lib\\site-packages\\xgboost\\training.py\", line 74, in _train_internal\n",
      "    bst.update(dtrain, i, obj)\n",
      "  File \"C:\\Users\\abdewang.ORADEV\\AppData\\anaconda3\\lib\\site-packages\\xgboost\\core.py\", line 1249, in update\n",
      "    dtrain.handle))\n",
      "  File \"C:\\Users\\abdewang.ORADEV\\AppData\\anaconda3\\lib\\site-packages\\xgboost\\core.py\", line 189, in _check_call\n",
      "    raise XGBoostError(py_str(_LIB.XGBGetLastError()))\n",
      "xgboost.core.XGBoostError: value 1.4 for Parameter colsample_bytree exceed bound [0,1]\n",
      "colsample_bytree: Subsample ratio of columns, resample on each tree construction.\n",
      "\n",
      "  FitFailedWarning)\n",
      "C:\\Users\\abdewang.ORADEV\\AppData\\anaconda3\\lib\\site-packages\\sklearn\\model_selection\\_validation.py:614: FitFailedWarning: Estimator fit failed. The score on this train-test partition for these parameters will be set to nan. Details: \n",
      "Traceback (most recent call last):\n",
      "  File \"C:\\Users\\abdewang.ORADEV\\AppData\\anaconda3\\lib\\site-packages\\sklearn\\model_selection\\_validation.py\", line 593, in _fit_and_score\n",
      "    estimator.fit(X_train, y_train, **fit_params)\n",
      "  File \"C:\\Users\\abdewang.ORADEV\\AppData\\anaconda3\\lib\\site-packages\\xgboost\\sklearn.py\", line 549, in fit\n",
      "    callbacks=callbacks)\n",
      "  File \"C:\\Users\\abdewang.ORADEV\\AppData\\anaconda3\\lib\\site-packages\\xgboost\\training.py\", line 209, in train\n",
      "    xgb_model=xgb_model, callbacks=callbacks)\n",
      "  File \"C:\\Users\\abdewang.ORADEV\\AppData\\anaconda3\\lib\\site-packages\\xgboost\\training.py\", line 74, in _train_internal\n",
      "    bst.update(dtrain, i, obj)\n",
      "  File \"C:\\Users\\abdewang.ORADEV\\AppData\\anaconda3\\lib\\site-packages\\xgboost\\core.py\", line 1249, in update\n",
      "    dtrain.handle))\n",
      "  File \"C:\\Users\\abdewang.ORADEV\\AppData\\anaconda3\\lib\\site-packages\\xgboost\\core.py\", line 189, in _check_call\n",
      "    raise XGBoostError(py_str(_LIB.XGBGetLastError()))\n",
      "xgboost.core.XGBoostError: value 1.4 for Parameter colsample_bytree exceed bound [0,1]\n",
      "colsample_bytree: Subsample ratio of columns, resample on each tree construction.\n",
      "\n",
      "  FitFailedWarning)\n",
      "C:\\Users\\abdewang.ORADEV\\AppData\\anaconda3\\lib\\site-packages\\sklearn\\model_selection\\_validation.py:614: FitFailedWarning: Estimator fit failed. The score on this train-test partition for these parameters will be set to nan. Details: \n",
      "Traceback (most recent call last):\n",
      "  File \"C:\\Users\\abdewang.ORADEV\\AppData\\anaconda3\\lib\\site-packages\\sklearn\\model_selection\\_validation.py\", line 593, in _fit_and_score\n",
      "    estimator.fit(X_train, y_train, **fit_params)\n",
      "  File \"C:\\Users\\abdewang.ORADEV\\AppData\\anaconda3\\lib\\site-packages\\xgboost\\sklearn.py\", line 549, in fit\n",
      "    callbacks=callbacks)\n",
      "  File \"C:\\Users\\abdewang.ORADEV\\AppData\\anaconda3\\lib\\site-packages\\xgboost\\training.py\", line 209, in train\n",
      "    xgb_model=xgb_model, callbacks=callbacks)\n",
      "  File \"C:\\Users\\abdewang.ORADEV\\AppData\\anaconda3\\lib\\site-packages\\xgboost\\training.py\", line 74, in _train_internal\n",
      "    bst.update(dtrain, i, obj)\n",
      "  File \"C:\\Users\\abdewang.ORADEV\\AppData\\anaconda3\\lib\\site-packages\\xgboost\\core.py\", line 1249, in update\n",
      "    dtrain.handle))\n",
      "  File \"C:\\Users\\abdewang.ORADEV\\AppData\\anaconda3\\lib\\site-packages\\xgboost\\core.py\", line 189, in _check_call\n",
      "    raise XGBoostError(py_str(_LIB.XGBGetLastError()))\n",
      "xgboost.core.XGBoostError: value 1.4 for Parameter colsample_bytree exceed bound [0,1]\n",
      "colsample_bytree: Subsample ratio of columns, resample on each tree construction.\n",
      "\n",
      "  FitFailedWarning)\n",
      "C:\\Users\\abdewang.ORADEV\\AppData\\anaconda3\\lib\\site-packages\\sklearn\\model_selection\\_validation.py:614: FitFailedWarning: Estimator fit failed. The score on this train-test partition for these parameters will be set to nan. Details: \n",
      "Traceback (most recent call last):\n",
      "  File \"C:\\Users\\abdewang.ORADEV\\AppData\\anaconda3\\lib\\site-packages\\sklearn\\model_selection\\_validation.py\", line 593, in _fit_and_score\n",
      "    estimator.fit(X_train, y_train, **fit_params)\n",
      "  File \"C:\\Users\\abdewang.ORADEV\\AppData\\anaconda3\\lib\\site-packages\\xgboost\\sklearn.py\", line 549, in fit\n",
      "    callbacks=callbacks)\n",
      "  File \"C:\\Users\\abdewang.ORADEV\\AppData\\anaconda3\\lib\\site-packages\\xgboost\\training.py\", line 209, in train\n",
      "    xgb_model=xgb_model, callbacks=callbacks)\n",
      "  File \"C:\\Users\\abdewang.ORADEV\\AppData\\anaconda3\\lib\\site-packages\\xgboost\\training.py\", line 74, in _train_internal\n",
      "    bst.update(dtrain, i, obj)\n",
      "  File \"C:\\Users\\abdewang.ORADEV\\AppData\\anaconda3\\lib\\site-packages\\xgboost\\core.py\", line 1249, in update\n",
      "    dtrain.handle))\n",
      "  File \"C:\\Users\\abdewang.ORADEV\\AppData\\anaconda3\\lib\\site-packages\\xgboost\\core.py\", line 189, in _check_call\n",
      "    raise XGBoostError(py_str(_LIB.XGBGetLastError()))\n",
      "xgboost.core.XGBoostError: value 1.4 for Parameter colsample_bytree exceed bound [0,1]\n",
      "colsample_bytree: Subsample ratio of columns, resample on each tree construction.\n",
      "\n",
      "  FitFailedWarning)\n",
      "C:\\Users\\abdewang.ORADEV\\AppData\\anaconda3\\lib\\site-packages\\sklearn\\model_selection\\_validation.py:614: FitFailedWarning: Estimator fit failed. The score on this train-test partition for these parameters will be set to nan. Details: \n",
      "Traceback (most recent call last):\n",
      "  File \"C:\\Users\\abdewang.ORADEV\\AppData\\anaconda3\\lib\\site-packages\\sklearn\\model_selection\\_validation.py\", line 593, in _fit_and_score\n",
      "    estimator.fit(X_train, y_train, **fit_params)\n",
      "  File \"C:\\Users\\abdewang.ORADEV\\AppData\\anaconda3\\lib\\site-packages\\xgboost\\sklearn.py\", line 549, in fit\n",
      "    callbacks=callbacks)\n",
      "  File \"C:\\Users\\abdewang.ORADEV\\AppData\\anaconda3\\lib\\site-packages\\xgboost\\training.py\", line 209, in train\n",
      "    xgb_model=xgb_model, callbacks=callbacks)\n",
      "  File \"C:\\Users\\abdewang.ORADEV\\AppData\\anaconda3\\lib\\site-packages\\xgboost\\training.py\", line 74, in _train_internal\n",
      "    bst.update(dtrain, i, obj)\n",
      "  File \"C:\\Users\\abdewang.ORADEV\\AppData\\anaconda3\\lib\\site-packages\\xgboost\\core.py\", line 1249, in update\n",
      "    dtrain.handle))\n",
      "  File \"C:\\Users\\abdewang.ORADEV\\AppData\\anaconda3\\lib\\site-packages\\xgboost\\core.py\", line 189, in _check_call\n",
      "    raise XGBoostError(py_str(_LIB.XGBGetLastError()))\n",
      "xgboost.core.XGBoostError: value 1.5 for Parameter colsample_bytree exceed bound [0,1]\n",
      "colsample_bytree: Subsample ratio of columns, resample on each tree construction.\n",
      "\n",
      "  FitFailedWarning)\n",
      "C:\\Users\\abdewang.ORADEV\\AppData\\anaconda3\\lib\\site-packages\\sklearn\\model_selection\\_validation.py:614: FitFailedWarning: Estimator fit failed. The score on this train-test partition for these parameters will be set to nan. Details: \n",
      "Traceback (most recent call last):\n",
      "  File \"C:\\Users\\abdewang.ORADEV\\AppData\\anaconda3\\lib\\site-packages\\sklearn\\model_selection\\_validation.py\", line 593, in _fit_and_score\n",
      "    estimator.fit(X_train, y_train, **fit_params)\n",
      "  File \"C:\\Users\\abdewang.ORADEV\\AppData\\anaconda3\\lib\\site-packages\\xgboost\\sklearn.py\", line 549, in fit\n",
      "    callbacks=callbacks)\n",
      "  File \"C:\\Users\\abdewang.ORADEV\\AppData\\anaconda3\\lib\\site-packages\\xgboost\\training.py\", line 209, in train\n",
      "    xgb_model=xgb_model, callbacks=callbacks)\n",
      "  File \"C:\\Users\\abdewang.ORADEV\\AppData\\anaconda3\\lib\\site-packages\\xgboost\\training.py\", line 74, in _train_internal\n",
      "    bst.update(dtrain, i, obj)\n",
      "  File \"C:\\Users\\abdewang.ORADEV\\AppData\\anaconda3\\lib\\site-packages\\xgboost\\core.py\", line 1249, in update\n",
      "    dtrain.handle))\n",
      "  File \"C:\\Users\\abdewang.ORADEV\\AppData\\anaconda3\\lib\\site-packages\\xgboost\\core.py\", line 189, in _check_call\n",
      "    raise XGBoostError(py_str(_LIB.XGBGetLastError()))\n",
      "xgboost.core.XGBoostError: value 1.5 for Parameter colsample_bytree exceed bound [0,1]\n",
      "colsample_bytree: Subsample ratio of columns, resample on each tree construction.\n",
      "\n",
      "  FitFailedWarning)\n",
      "C:\\Users\\abdewang.ORADEV\\AppData\\anaconda3\\lib\\site-packages\\sklearn\\model_selection\\_validation.py:614: FitFailedWarning: Estimator fit failed. The score on this train-test partition for these parameters will be set to nan. Details: \n",
      "Traceback (most recent call last):\n",
      "  File \"C:\\Users\\abdewang.ORADEV\\AppData\\anaconda3\\lib\\site-packages\\sklearn\\model_selection\\_validation.py\", line 593, in _fit_and_score\n",
      "    estimator.fit(X_train, y_train, **fit_params)\n",
      "  File \"C:\\Users\\abdewang.ORADEV\\AppData\\anaconda3\\lib\\site-packages\\xgboost\\sklearn.py\", line 549, in fit\n",
      "    callbacks=callbacks)\n",
      "  File \"C:\\Users\\abdewang.ORADEV\\AppData\\anaconda3\\lib\\site-packages\\xgboost\\training.py\", line 209, in train\n",
      "    xgb_model=xgb_model, callbacks=callbacks)\n",
      "  File \"C:\\Users\\abdewang.ORADEV\\AppData\\anaconda3\\lib\\site-packages\\xgboost\\training.py\", line 74, in _train_internal\n",
      "    bst.update(dtrain, i, obj)\n",
      "  File \"C:\\Users\\abdewang.ORADEV\\AppData\\anaconda3\\lib\\site-packages\\xgboost\\core.py\", line 1249, in update\n",
      "    dtrain.handle))\n",
      "  File \"C:\\Users\\abdewang.ORADEV\\AppData\\anaconda3\\lib\\site-packages\\xgboost\\core.py\", line 189, in _check_call\n",
      "    raise XGBoostError(py_str(_LIB.XGBGetLastError()))\n",
      "xgboost.core.XGBoostError: value 1.5 for Parameter colsample_bytree exceed bound [0,1]\n",
      "colsample_bytree: Subsample ratio of columns, resample on each tree construction.\n",
      "\n",
      "  FitFailedWarning)\n",
      "C:\\Users\\abdewang.ORADEV\\AppData\\anaconda3\\lib\\site-packages\\sklearn\\model_selection\\_validation.py:614: FitFailedWarning: Estimator fit failed. The score on this train-test partition for these parameters will be set to nan. Details: \n",
      "Traceback (most recent call last):\n",
      "  File \"C:\\Users\\abdewang.ORADEV\\AppData\\anaconda3\\lib\\site-packages\\sklearn\\model_selection\\_validation.py\", line 593, in _fit_and_score\n",
      "    estimator.fit(X_train, y_train, **fit_params)\n",
      "  File \"C:\\Users\\abdewang.ORADEV\\AppData\\anaconda3\\lib\\site-packages\\xgboost\\sklearn.py\", line 549, in fit\n",
      "    callbacks=callbacks)\n",
      "  File \"C:\\Users\\abdewang.ORADEV\\AppData\\anaconda3\\lib\\site-packages\\xgboost\\training.py\", line 209, in train\n",
      "    xgb_model=xgb_model, callbacks=callbacks)\n",
      "  File \"C:\\Users\\abdewang.ORADEV\\AppData\\anaconda3\\lib\\site-packages\\xgboost\\training.py\", line 74, in _train_internal\n",
      "    bst.update(dtrain, i, obj)\n",
      "  File \"C:\\Users\\abdewang.ORADEV\\AppData\\anaconda3\\lib\\site-packages\\xgboost\\core.py\", line 1249, in update\n",
      "    dtrain.handle))\n",
      "  File \"C:\\Users\\abdewang.ORADEV\\AppData\\anaconda3\\lib\\site-packages\\xgboost\\core.py\", line 189, in _check_call\n",
      "    raise XGBoostError(py_str(_LIB.XGBGetLastError()))\n",
      "xgboost.core.XGBoostError: value 1.5 for Parameter colsample_bytree exceed bound [0,1]\n",
      "colsample_bytree: Subsample ratio of columns, resample on each tree construction.\n",
      "\n",
      "  FitFailedWarning)\n",
      "C:\\Users\\abdewang.ORADEV\\AppData\\anaconda3\\lib\\site-packages\\sklearn\\model_selection\\_validation.py:614: FitFailedWarning: Estimator fit failed. The score on this train-test partition for these parameters will be set to nan. Details: \n",
      "Traceback (most recent call last):\n",
      "  File \"C:\\Users\\abdewang.ORADEV\\AppData\\anaconda3\\lib\\site-packages\\sklearn\\model_selection\\_validation.py\", line 593, in _fit_and_score\n",
      "    estimator.fit(X_train, y_train, **fit_params)\n",
      "  File \"C:\\Users\\abdewang.ORADEV\\AppData\\anaconda3\\lib\\site-packages\\xgboost\\sklearn.py\", line 549, in fit\n",
      "    callbacks=callbacks)\n",
      "  File \"C:\\Users\\abdewang.ORADEV\\AppData\\anaconda3\\lib\\site-packages\\xgboost\\training.py\", line 209, in train\n",
      "    xgb_model=xgb_model, callbacks=callbacks)\n",
      "  File \"C:\\Users\\abdewang.ORADEV\\AppData\\anaconda3\\lib\\site-packages\\xgboost\\training.py\", line 74, in _train_internal\n",
      "    bst.update(dtrain, i, obj)\n",
      "  File \"C:\\Users\\abdewang.ORADEV\\AppData\\anaconda3\\lib\\site-packages\\xgboost\\core.py\", line 1249, in update\n",
      "    dtrain.handle))\n",
      "  File \"C:\\Users\\abdewang.ORADEV\\AppData\\anaconda3\\lib\\site-packages\\xgboost\\core.py\", line 189, in _check_call\n",
      "    raise XGBoostError(py_str(_LIB.XGBGetLastError()))\n",
      "xgboost.core.XGBoostError: value 1.5 for Parameter colsample_bytree exceed bound [0,1]\n",
      "colsample_bytree: Subsample ratio of columns, resample on each tree construction.\n",
      "\n",
      "  FitFailedWarning)\n",
      "C:\\Users\\abdewang.ORADEV\\AppData\\anaconda3\\lib\\site-packages\\sklearn\\model_selection\\_validation.py:614: FitFailedWarning: Estimator fit failed. The score on this train-test partition for these parameters will be set to nan. Details: \n",
      "Traceback (most recent call last):\n",
      "  File \"C:\\Users\\abdewang.ORADEV\\AppData\\anaconda3\\lib\\site-packages\\sklearn\\model_selection\\_validation.py\", line 593, in _fit_and_score\n",
      "    estimator.fit(X_train, y_train, **fit_params)\n",
      "  File \"C:\\Users\\abdewang.ORADEV\\AppData\\anaconda3\\lib\\site-packages\\xgboost\\sklearn.py\", line 549, in fit\n",
      "    callbacks=callbacks)\n",
      "  File \"C:\\Users\\abdewang.ORADEV\\AppData\\anaconda3\\lib\\site-packages\\xgboost\\training.py\", line 209, in train\n",
      "    xgb_model=xgb_model, callbacks=callbacks)\n",
      "  File \"C:\\Users\\abdewang.ORADEV\\AppData\\anaconda3\\lib\\site-packages\\xgboost\\training.py\", line 74, in _train_internal\n",
      "    bst.update(dtrain, i, obj)\n",
      "  File \"C:\\Users\\abdewang.ORADEV\\AppData\\anaconda3\\lib\\site-packages\\xgboost\\core.py\", line 1249, in update\n",
      "    dtrain.handle))\n",
      "  File \"C:\\Users\\abdewang.ORADEV\\AppData\\anaconda3\\lib\\site-packages\\xgboost\\core.py\", line 189, in _check_call\n",
      "    raise XGBoostError(py_str(_LIB.XGBGetLastError()))\n",
      "xgboost.core.XGBoostError: value 1.4 for Parameter colsample_bytree exceed bound [0,1]\n",
      "colsample_bytree: Subsample ratio of columns, resample on each tree construction.\n",
      "\n",
      "  FitFailedWarning)\n",
      "C:\\Users\\abdewang.ORADEV\\AppData\\anaconda3\\lib\\site-packages\\sklearn\\model_selection\\_validation.py:614: FitFailedWarning: Estimator fit failed. The score on this train-test partition for these parameters will be set to nan. Details: \n",
      "Traceback (most recent call last):\n",
      "  File \"C:\\Users\\abdewang.ORADEV\\AppData\\anaconda3\\lib\\site-packages\\sklearn\\model_selection\\_validation.py\", line 593, in _fit_and_score\n",
      "    estimator.fit(X_train, y_train, **fit_params)\n",
      "  File \"C:\\Users\\abdewang.ORADEV\\AppData\\anaconda3\\lib\\site-packages\\xgboost\\sklearn.py\", line 549, in fit\n",
      "    callbacks=callbacks)\n",
      "  File \"C:\\Users\\abdewang.ORADEV\\AppData\\anaconda3\\lib\\site-packages\\xgboost\\training.py\", line 209, in train\n",
      "    xgb_model=xgb_model, callbacks=callbacks)\n",
      "  File \"C:\\Users\\abdewang.ORADEV\\AppData\\anaconda3\\lib\\site-packages\\xgboost\\training.py\", line 74, in _train_internal\n",
      "    bst.update(dtrain, i, obj)\n",
      "  File \"C:\\Users\\abdewang.ORADEV\\AppData\\anaconda3\\lib\\site-packages\\xgboost\\core.py\", line 1249, in update\n",
      "    dtrain.handle))\n",
      "  File \"C:\\Users\\abdewang.ORADEV\\AppData\\anaconda3\\lib\\site-packages\\xgboost\\core.py\", line 189, in _check_call\n",
      "    raise XGBoostError(py_str(_LIB.XGBGetLastError()))\n",
      "xgboost.core.XGBoostError: value 1.4 for Parameter colsample_bytree exceed bound [0,1]\n",
      "colsample_bytree: Subsample ratio of columns, resample on each tree construction.\n",
      "\n",
      "  FitFailedWarning)\n",
      "C:\\Users\\abdewang.ORADEV\\AppData\\anaconda3\\lib\\site-packages\\sklearn\\model_selection\\_validation.py:614: FitFailedWarning: Estimator fit failed. The score on this train-test partition for these parameters will be set to nan. Details: \n",
      "Traceback (most recent call last):\n",
      "  File \"C:\\Users\\abdewang.ORADEV\\AppData\\anaconda3\\lib\\site-packages\\sklearn\\model_selection\\_validation.py\", line 593, in _fit_and_score\n",
      "    estimator.fit(X_train, y_train, **fit_params)\n",
      "  File \"C:\\Users\\abdewang.ORADEV\\AppData\\anaconda3\\lib\\site-packages\\xgboost\\sklearn.py\", line 549, in fit\n",
      "    callbacks=callbacks)\n",
      "  File \"C:\\Users\\abdewang.ORADEV\\AppData\\anaconda3\\lib\\site-packages\\xgboost\\training.py\", line 209, in train\n",
      "    xgb_model=xgb_model, callbacks=callbacks)\n",
      "  File \"C:\\Users\\abdewang.ORADEV\\AppData\\anaconda3\\lib\\site-packages\\xgboost\\training.py\", line 74, in _train_internal\n",
      "    bst.update(dtrain, i, obj)\n",
      "  File \"C:\\Users\\abdewang.ORADEV\\AppData\\anaconda3\\lib\\site-packages\\xgboost\\core.py\", line 1249, in update\n",
      "    dtrain.handle))\n",
      "  File \"C:\\Users\\abdewang.ORADEV\\AppData\\anaconda3\\lib\\site-packages\\xgboost\\core.py\", line 189, in _check_call\n",
      "    raise XGBoostError(py_str(_LIB.XGBGetLastError()))\n",
      "xgboost.core.XGBoostError: value 1.4 for Parameter colsample_bytree exceed bound [0,1]\n",
      "colsample_bytree: Subsample ratio of columns, resample on each tree construction.\n",
      "\n",
      "  FitFailedWarning)\n",
      "C:\\Users\\abdewang.ORADEV\\AppData\\anaconda3\\lib\\site-packages\\sklearn\\model_selection\\_validation.py:614: FitFailedWarning: Estimator fit failed. The score on this train-test partition for these parameters will be set to nan. Details: \n",
      "Traceback (most recent call last):\n",
      "  File \"C:\\Users\\abdewang.ORADEV\\AppData\\anaconda3\\lib\\site-packages\\sklearn\\model_selection\\_validation.py\", line 593, in _fit_and_score\n",
      "    estimator.fit(X_train, y_train, **fit_params)\n",
      "  File \"C:\\Users\\abdewang.ORADEV\\AppData\\anaconda3\\lib\\site-packages\\xgboost\\sklearn.py\", line 549, in fit\n",
      "    callbacks=callbacks)\n",
      "  File \"C:\\Users\\abdewang.ORADEV\\AppData\\anaconda3\\lib\\site-packages\\xgboost\\training.py\", line 209, in train\n",
      "    xgb_model=xgb_model, callbacks=callbacks)\n",
      "  File \"C:\\Users\\abdewang.ORADEV\\AppData\\anaconda3\\lib\\site-packages\\xgboost\\training.py\", line 74, in _train_internal\n",
      "    bst.update(dtrain, i, obj)\n",
      "  File \"C:\\Users\\abdewang.ORADEV\\AppData\\anaconda3\\lib\\site-packages\\xgboost\\core.py\", line 1249, in update\n",
      "    dtrain.handle))\n",
      "  File \"C:\\Users\\abdewang.ORADEV\\AppData\\anaconda3\\lib\\site-packages\\xgboost\\core.py\", line 189, in _check_call\n",
      "    raise XGBoostError(py_str(_LIB.XGBGetLastError()))\n",
      "xgboost.core.XGBoostError: value 1.4 for Parameter colsample_bytree exceed bound [0,1]\n",
      "colsample_bytree: Subsample ratio of columns, resample on each tree construction.\n",
      "\n",
      "  FitFailedWarning)\n"
     ]
    },
    {
     "name": "stderr",
     "output_type": "stream",
     "text": [
      "C:\\Users\\abdewang.ORADEV\\AppData\\anaconda3\\lib\\site-packages\\sklearn\\model_selection\\_validation.py:614: FitFailedWarning: Estimator fit failed. The score on this train-test partition for these parameters will be set to nan. Details: \n",
      "Traceback (most recent call last):\n",
      "  File \"C:\\Users\\abdewang.ORADEV\\AppData\\anaconda3\\lib\\site-packages\\sklearn\\model_selection\\_validation.py\", line 593, in _fit_and_score\n",
      "    estimator.fit(X_train, y_train, **fit_params)\n",
      "  File \"C:\\Users\\abdewang.ORADEV\\AppData\\anaconda3\\lib\\site-packages\\xgboost\\sklearn.py\", line 549, in fit\n",
      "    callbacks=callbacks)\n",
      "  File \"C:\\Users\\abdewang.ORADEV\\AppData\\anaconda3\\lib\\site-packages\\xgboost\\training.py\", line 209, in train\n",
      "    xgb_model=xgb_model, callbacks=callbacks)\n",
      "  File \"C:\\Users\\abdewang.ORADEV\\AppData\\anaconda3\\lib\\site-packages\\xgboost\\training.py\", line 74, in _train_internal\n",
      "    bst.update(dtrain, i, obj)\n",
      "  File \"C:\\Users\\abdewang.ORADEV\\AppData\\anaconda3\\lib\\site-packages\\xgboost\\core.py\", line 1249, in update\n",
      "    dtrain.handle))\n",
      "  File \"C:\\Users\\abdewang.ORADEV\\AppData\\anaconda3\\lib\\site-packages\\xgboost\\core.py\", line 189, in _check_call\n",
      "    raise XGBoostError(py_str(_LIB.XGBGetLastError()))\n",
      "xgboost.core.XGBoostError: value 1.4 for Parameter colsample_bytree exceed bound [0,1]\n",
      "colsample_bytree: Subsample ratio of columns, resample on each tree construction.\n",
      "\n",
      "  FitFailedWarning)\n",
      "C:\\Users\\abdewang.ORADEV\\AppData\\anaconda3\\lib\\site-packages\\sklearn\\model_selection\\_validation.py:614: FitFailedWarning: Estimator fit failed. The score on this train-test partition for these parameters will be set to nan. Details: \n",
      "Traceback (most recent call last):\n",
      "  File \"C:\\Users\\abdewang.ORADEV\\AppData\\anaconda3\\lib\\site-packages\\sklearn\\model_selection\\_validation.py\", line 593, in _fit_and_score\n",
      "    estimator.fit(X_train, y_train, **fit_params)\n",
      "  File \"C:\\Users\\abdewang.ORADEV\\AppData\\anaconda3\\lib\\site-packages\\xgboost\\sklearn.py\", line 549, in fit\n",
      "    callbacks=callbacks)\n",
      "  File \"C:\\Users\\abdewang.ORADEV\\AppData\\anaconda3\\lib\\site-packages\\xgboost\\training.py\", line 209, in train\n",
      "    xgb_model=xgb_model, callbacks=callbacks)\n",
      "  File \"C:\\Users\\abdewang.ORADEV\\AppData\\anaconda3\\lib\\site-packages\\xgboost\\training.py\", line 74, in _train_internal\n",
      "    bst.update(dtrain, i, obj)\n",
      "  File \"C:\\Users\\abdewang.ORADEV\\AppData\\anaconda3\\lib\\site-packages\\xgboost\\core.py\", line 1249, in update\n",
      "    dtrain.handle))\n",
      "  File \"C:\\Users\\abdewang.ORADEV\\AppData\\anaconda3\\lib\\site-packages\\xgboost\\core.py\", line 189, in _check_call\n",
      "    raise XGBoostError(py_str(_LIB.XGBGetLastError()))\n",
      "xgboost.core.XGBoostError: value 1.1 for Parameter colsample_bytree exceed bound [0,1]\n",
      "colsample_bytree: Subsample ratio of columns, resample on each tree construction.\n",
      "\n",
      "  FitFailedWarning)\n",
      "C:\\Users\\abdewang.ORADEV\\AppData\\anaconda3\\lib\\site-packages\\sklearn\\model_selection\\_validation.py:614: FitFailedWarning: Estimator fit failed. The score on this train-test partition for these parameters will be set to nan. Details: \n",
      "Traceback (most recent call last):\n",
      "  File \"C:\\Users\\abdewang.ORADEV\\AppData\\anaconda3\\lib\\site-packages\\sklearn\\model_selection\\_validation.py\", line 593, in _fit_and_score\n",
      "    estimator.fit(X_train, y_train, **fit_params)\n",
      "  File \"C:\\Users\\abdewang.ORADEV\\AppData\\anaconda3\\lib\\site-packages\\xgboost\\sklearn.py\", line 549, in fit\n",
      "    callbacks=callbacks)\n",
      "  File \"C:\\Users\\abdewang.ORADEV\\AppData\\anaconda3\\lib\\site-packages\\xgboost\\training.py\", line 209, in train\n",
      "    xgb_model=xgb_model, callbacks=callbacks)\n",
      "  File \"C:\\Users\\abdewang.ORADEV\\AppData\\anaconda3\\lib\\site-packages\\xgboost\\training.py\", line 74, in _train_internal\n",
      "    bst.update(dtrain, i, obj)\n",
      "  File \"C:\\Users\\abdewang.ORADEV\\AppData\\anaconda3\\lib\\site-packages\\xgboost\\core.py\", line 1249, in update\n",
      "    dtrain.handle))\n",
      "  File \"C:\\Users\\abdewang.ORADEV\\AppData\\anaconda3\\lib\\site-packages\\xgboost\\core.py\", line 189, in _check_call\n",
      "    raise XGBoostError(py_str(_LIB.XGBGetLastError()))\n",
      "xgboost.core.XGBoostError: value 1.1 for Parameter colsample_bytree exceed bound [0,1]\n",
      "colsample_bytree: Subsample ratio of columns, resample on each tree construction.\n",
      "\n",
      "  FitFailedWarning)\n",
      "C:\\Users\\abdewang.ORADEV\\AppData\\anaconda3\\lib\\site-packages\\sklearn\\model_selection\\_validation.py:614: FitFailedWarning: Estimator fit failed. The score on this train-test partition for these parameters will be set to nan. Details: \n",
      "Traceback (most recent call last):\n",
      "  File \"C:\\Users\\abdewang.ORADEV\\AppData\\anaconda3\\lib\\site-packages\\sklearn\\model_selection\\_validation.py\", line 593, in _fit_and_score\n",
      "    estimator.fit(X_train, y_train, **fit_params)\n",
      "  File \"C:\\Users\\abdewang.ORADEV\\AppData\\anaconda3\\lib\\site-packages\\xgboost\\sklearn.py\", line 549, in fit\n",
      "    callbacks=callbacks)\n",
      "  File \"C:\\Users\\abdewang.ORADEV\\AppData\\anaconda3\\lib\\site-packages\\xgboost\\training.py\", line 209, in train\n",
      "    xgb_model=xgb_model, callbacks=callbacks)\n",
      "  File \"C:\\Users\\abdewang.ORADEV\\AppData\\anaconda3\\lib\\site-packages\\xgboost\\training.py\", line 74, in _train_internal\n",
      "    bst.update(dtrain, i, obj)\n",
      "  File \"C:\\Users\\abdewang.ORADEV\\AppData\\anaconda3\\lib\\site-packages\\xgboost\\core.py\", line 1249, in update\n",
      "    dtrain.handle))\n",
      "  File \"C:\\Users\\abdewang.ORADEV\\AppData\\anaconda3\\lib\\site-packages\\xgboost\\core.py\", line 189, in _check_call\n",
      "    raise XGBoostError(py_str(_LIB.XGBGetLastError()))\n",
      "xgboost.core.XGBoostError: value 1.1 for Parameter colsample_bytree exceed bound [0,1]\n",
      "colsample_bytree: Subsample ratio of columns, resample on each tree construction.\n",
      "\n",
      "  FitFailedWarning)\n",
      "C:\\Users\\abdewang.ORADEV\\AppData\\anaconda3\\lib\\site-packages\\sklearn\\model_selection\\_validation.py:614: FitFailedWarning: Estimator fit failed. The score on this train-test partition for these parameters will be set to nan. Details: \n",
      "Traceback (most recent call last):\n",
      "  File \"C:\\Users\\abdewang.ORADEV\\AppData\\anaconda3\\lib\\site-packages\\sklearn\\model_selection\\_validation.py\", line 593, in _fit_and_score\n",
      "    estimator.fit(X_train, y_train, **fit_params)\n",
      "  File \"C:\\Users\\abdewang.ORADEV\\AppData\\anaconda3\\lib\\site-packages\\xgboost\\sklearn.py\", line 549, in fit\n",
      "    callbacks=callbacks)\n",
      "  File \"C:\\Users\\abdewang.ORADEV\\AppData\\anaconda3\\lib\\site-packages\\xgboost\\training.py\", line 209, in train\n",
      "    xgb_model=xgb_model, callbacks=callbacks)\n",
      "  File \"C:\\Users\\abdewang.ORADEV\\AppData\\anaconda3\\lib\\site-packages\\xgboost\\training.py\", line 74, in _train_internal\n",
      "    bst.update(dtrain, i, obj)\n",
      "  File \"C:\\Users\\abdewang.ORADEV\\AppData\\anaconda3\\lib\\site-packages\\xgboost\\core.py\", line 1249, in update\n",
      "    dtrain.handle))\n",
      "  File \"C:\\Users\\abdewang.ORADEV\\AppData\\anaconda3\\lib\\site-packages\\xgboost\\core.py\", line 189, in _check_call\n",
      "    raise XGBoostError(py_str(_LIB.XGBGetLastError()))\n",
      "xgboost.core.XGBoostError: value 1.1 for Parameter colsample_bytree exceed bound [0,1]\n",
      "colsample_bytree: Subsample ratio of columns, resample on each tree construction.\n",
      "\n",
      "  FitFailedWarning)\n",
      "C:\\Users\\abdewang.ORADEV\\AppData\\anaconda3\\lib\\site-packages\\sklearn\\model_selection\\_validation.py:614: FitFailedWarning: Estimator fit failed. The score on this train-test partition for these parameters will be set to nan. Details: \n",
      "Traceback (most recent call last):\n",
      "  File \"C:\\Users\\abdewang.ORADEV\\AppData\\anaconda3\\lib\\site-packages\\sklearn\\model_selection\\_validation.py\", line 593, in _fit_and_score\n",
      "    estimator.fit(X_train, y_train, **fit_params)\n",
      "  File \"C:\\Users\\abdewang.ORADEV\\AppData\\anaconda3\\lib\\site-packages\\xgboost\\sklearn.py\", line 549, in fit\n",
      "    callbacks=callbacks)\n",
      "  File \"C:\\Users\\abdewang.ORADEV\\AppData\\anaconda3\\lib\\site-packages\\xgboost\\training.py\", line 209, in train\n",
      "    xgb_model=xgb_model, callbacks=callbacks)\n",
      "  File \"C:\\Users\\abdewang.ORADEV\\AppData\\anaconda3\\lib\\site-packages\\xgboost\\training.py\", line 74, in _train_internal\n",
      "    bst.update(dtrain, i, obj)\n",
      "  File \"C:\\Users\\abdewang.ORADEV\\AppData\\anaconda3\\lib\\site-packages\\xgboost\\core.py\", line 1249, in update\n",
      "    dtrain.handle))\n",
      "  File \"C:\\Users\\abdewang.ORADEV\\AppData\\anaconda3\\lib\\site-packages\\xgboost\\core.py\", line 189, in _check_call\n",
      "    raise XGBoostError(py_str(_LIB.XGBGetLastError()))\n",
      "xgboost.core.XGBoostError: value 1.1 for Parameter colsample_bytree exceed bound [0,1]\n",
      "colsample_bytree: Subsample ratio of columns, resample on each tree construction.\n",
      "\n",
      "  FitFailedWarning)\n",
      "C:\\Users\\abdewang.ORADEV\\AppData\\anaconda3\\lib\\site-packages\\sklearn\\model_selection\\_validation.py:614: FitFailedWarning: Estimator fit failed. The score on this train-test partition for these parameters will be set to nan. Details: \n",
      "Traceback (most recent call last):\n",
      "  File \"C:\\Users\\abdewang.ORADEV\\AppData\\anaconda3\\lib\\site-packages\\sklearn\\model_selection\\_validation.py\", line 593, in _fit_and_score\n",
      "    estimator.fit(X_train, y_train, **fit_params)\n",
      "  File \"C:\\Users\\abdewang.ORADEV\\AppData\\anaconda3\\lib\\site-packages\\xgboost\\sklearn.py\", line 549, in fit\n",
      "    callbacks=callbacks)\n",
      "  File \"C:\\Users\\abdewang.ORADEV\\AppData\\anaconda3\\lib\\site-packages\\xgboost\\training.py\", line 209, in train\n",
      "    xgb_model=xgb_model, callbacks=callbacks)\n",
      "  File \"C:\\Users\\abdewang.ORADEV\\AppData\\anaconda3\\lib\\site-packages\\xgboost\\training.py\", line 74, in _train_internal\n",
      "    bst.update(dtrain, i, obj)\n",
      "  File \"C:\\Users\\abdewang.ORADEV\\AppData\\anaconda3\\lib\\site-packages\\xgboost\\core.py\", line 1249, in update\n",
      "    dtrain.handle))\n",
      "  File \"C:\\Users\\abdewang.ORADEV\\AppData\\anaconda3\\lib\\site-packages\\xgboost\\core.py\", line 189, in _check_call\n",
      "    raise XGBoostError(py_str(_LIB.XGBGetLastError()))\n",
      "xgboost.core.XGBoostError: value 1.1 for Parameter colsample_bytree exceed bound [0,1]\n",
      "colsample_bytree: Subsample ratio of columns, resample on each tree construction.\n",
      "\n",
      "  FitFailedWarning)\n",
      "C:\\Users\\abdewang.ORADEV\\AppData\\anaconda3\\lib\\site-packages\\sklearn\\model_selection\\_validation.py:614: FitFailedWarning: Estimator fit failed. The score on this train-test partition for these parameters will be set to nan. Details: \n",
      "Traceback (most recent call last):\n",
      "  File \"C:\\Users\\abdewang.ORADEV\\AppData\\anaconda3\\lib\\site-packages\\sklearn\\model_selection\\_validation.py\", line 593, in _fit_and_score\n",
      "    estimator.fit(X_train, y_train, **fit_params)\n",
      "  File \"C:\\Users\\abdewang.ORADEV\\AppData\\anaconda3\\lib\\site-packages\\xgboost\\sklearn.py\", line 549, in fit\n",
      "    callbacks=callbacks)\n",
      "  File \"C:\\Users\\abdewang.ORADEV\\AppData\\anaconda3\\lib\\site-packages\\xgboost\\training.py\", line 209, in train\n",
      "    xgb_model=xgb_model, callbacks=callbacks)\n",
      "  File \"C:\\Users\\abdewang.ORADEV\\AppData\\anaconda3\\lib\\site-packages\\xgboost\\training.py\", line 74, in _train_internal\n",
      "    bst.update(dtrain, i, obj)\n",
      "  File \"C:\\Users\\abdewang.ORADEV\\AppData\\anaconda3\\lib\\site-packages\\xgboost\\core.py\", line 1249, in update\n",
      "    dtrain.handle))\n",
      "  File \"C:\\Users\\abdewang.ORADEV\\AppData\\anaconda3\\lib\\site-packages\\xgboost\\core.py\", line 189, in _check_call\n",
      "    raise XGBoostError(py_str(_LIB.XGBGetLastError()))\n",
      "xgboost.core.XGBoostError: value 1.1 for Parameter colsample_bytree exceed bound [0,1]\n",
      "colsample_bytree: Subsample ratio of columns, resample on each tree construction.\n",
      "\n",
      "  FitFailedWarning)\n",
      "C:\\Users\\abdewang.ORADEV\\AppData\\anaconda3\\lib\\site-packages\\sklearn\\model_selection\\_validation.py:614: FitFailedWarning: Estimator fit failed. The score on this train-test partition for these parameters will be set to nan. Details: \n",
      "Traceback (most recent call last):\n",
      "  File \"C:\\Users\\abdewang.ORADEV\\AppData\\anaconda3\\lib\\site-packages\\sklearn\\model_selection\\_validation.py\", line 593, in _fit_and_score\n",
      "    estimator.fit(X_train, y_train, **fit_params)\n",
      "  File \"C:\\Users\\abdewang.ORADEV\\AppData\\anaconda3\\lib\\site-packages\\xgboost\\sklearn.py\", line 549, in fit\n",
      "    callbacks=callbacks)\n",
      "  File \"C:\\Users\\abdewang.ORADEV\\AppData\\anaconda3\\lib\\site-packages\\xgboost\\training.py\", line 209, in train\n",
      "    xgb_model=xgb_model, callbacks=callbacks)\n",
      "  File \"C:\\Users\\abdewang.ORADEV\\AppData\\anaconda3\\lib\\site-packages\\xgboost\\training.py\", line 74, in _train_internal\n",
      "    bst.update(dtrain, i, obj)\n",
      "  File \"C:\\Users\\abdewang.ORADEV\\AppData\\anaconda3\\lib\\site-packages\\xgboost\\core.py\", line 1249, in update\n",
      "    dtrain.handle))\n",
      "  File \"C:\\Users\\abdewang.ORADEV\\AppData\\anaconda3\\lib\\site-packages\\xgboost\\core.py\", line 189, in _check_call\n",
      "    raise XGBoostError(py_str(_LIB.XGBGetLastError()))\n",
      "xgboost.core.XGBoostError: value 1.1 for Parameter colsample_bytree exceed bound [0,1]\n",
      "colsample_bytree: Subsample ratio of columns, resample on each tree construction.\n",
      "\n",
      "  FitFailedWarning)\n",
      "C:\\Users\\abdewang.ORADEV\\AppData\\anaconda3\\lib\\site-packages\\sklearn\\model_selection\\_validation.py:614: FitFailedWarning: Estimator fit failed. The score on this train-test partition for these parameters will be set to nan. Details: \n",
      "Traceback (most recent call last):\n",
      "  File \"C:\\Users\\abdewang.ORADEV\\AppData\\anaconda3\\lib\\site-packages\\sklearn\\model_selection\\_validation.py\", line 593, in _fit_and_score\n",
      "    estimator.fit(X_train, y_train, **fit_params)\n",
      "  File \"C:\\Users\\abdewang.ORADEV\\AppData\\anaconda3\\lib\\site-packages\\xgboost\\sklearn.py\", line 549, in fit\n",
      "    callbacks=callbacks)\n",
      "  File \"C:\\Users\\abdewang.ORADEV\\AppData\\anaconda3\\lib\\site-packages\\xgboost\\training.py\", line 209, in train\n",
      "    xgb_model=xgb_model, callbacks=callbacks)\n",
      "  File \"C:\\Users\\abdewang.ORADEV\\AppData\\anaconda3\\lib\\site-packages\\xgboost\\training.py\", line 74, in _train_internal\n",
      "    bst.update(dtrain, i, obj)\n",
      "  File \"C:\\Users\\abdewang.ORADEV\\AppData\\anaconda3\\lib\\site-packages\\xgboost\\core.py\", line 1249, in update\n",
      "    dtrain.handle))\n",
      "  File \"C:\\Users\\abdewang.ORADEV\\AppData\\anaconda3\\lib\\site-packages\\xgboost\\core.py\", line 189, in _check_call\n",
      "    raise XGBoostError(py_str(_LIB.XGBGetLastError()))\n",
      "xgboost.core.XGBoostError: value 1.1 for Parameter colsample_bytree exceed bound [0,1]\n",
      "colsample_bytree: Subsample ratio of columns, resample on each tree construction.\n",
      "\n",
      "  FitFailedWarning)\n",
      "C:\\Users\\abdewang.ORADEV\\AppData\\anaconda3\\lib\\site-packages\\sklearn\\model_selection\\_validation.py:614: FitFailedWarning: Estimator fit failed. The score on this train-test partition for these parameters will be set to nan. Details: \n",
      "Traceback (most recent call last):\n",
      "  File \"C:\\Users\\abdewang.ORADEV\\AppData\\anaconda3\\lib\\site-packages\\sklearn\\model_selection\\_validation.py\", line 593, in _fit_and_score\n",
      "    estimator.fit(X_train, y_train, **fit_params)\n",
      "  File \"C:\\Users\\abdewang.ORADEV\\AppData\\anaconda3\\lib\\site-packages\\xgboost\\sklearn.py\", line 549, in fit\n",
      "    callbacks=callbacks)\n",
      "  File \"C:\\Users\\abdewang.ORADEV\\AppData\\anaconda3\\lib\\site-packages\\xgboost\\training.py\", line 209, in train\n",
      "    xgb_model=xgb_model, callbacks=callbacks)\n",
      "  File \"C:\\Users\\abdewang.ORADEV\\AppData\\anaconda3\\lib\\site-packages\\xgboost\\training.py\", line 74, in _train_internal\n",
      "    bst.update(dtrain, i, obj)\n",
      "  File \"C:\\Users\\abdewang.ORADEV\\AppData\\anaconda3\\lib\\site-packages\\xgboost\\core.py\", line 1249, in update\n",
      "    dtrain.handle))\n",
      "  File \"C:\\Users\\abdewang.ORADEV\\AppData\\anaconda3\\lib\\site-packages\\xgboost\\core.py\", line 189, in _check_call\n",
      "    raise XGBoostError(py_str(_LIB.XGBGetLastError()))\n",
      "xgboost.core.XGBoostError: value 1.1 for Parameter colsample_bytree exceed bound [0,1]\n",
      "colsample_bytree: Subsample ratio of columns, resample on each tree construction.\n",
      "\n",
      "  FitFailedWarning)\n",
      "C:\\Users\\abdewang.ORADEV\\AppData\\anaconda3\\lib\\site-packages\\sklearn\\model_selection\\_validation.py:614: FitFailedWarning: Estimator fit failed. The score on this train-test partition for these parameters will be set to nan. Details: \n",
      "Traceback (most recent call last):\n",
      "  File \"C:\\Users\\abdewang.ORADEV\\AppData\\anaconda3\\lib\\site-packages\\sklearn\\model_selection\\_validation.py\", line 593, in _fit_and_score\n",
      "    estimator.fit(X_train, y_train, **fit_params)\n",
      "  File \"C:\\Users\\abdewang.ORADEV\\AppData\\anaconda3\\lib\\site-packages\\xgboost\\sklearn.py\", line 549, in fit\n",
      "    callbacks=callbacks)\n",
      "  File \"C:\\Users\\abdewang.ORADEV\\AppData\\anaconda3\\lib\\site-packages\\xgboost\\training.py\", line 209, in train\n",
      "    xgb_model=xgb_model, callbacks=callbacks)\n",
      "  File \"C:\\Users\\abdewang.ORADEV\\AppData\\anaconda3\\lib\\site-packages\\xgboost\\training.py\", line 74, in _train_internal\n",
      "    bst.update(dtrain, i, obj)\n",
      "  File \"C:\\Users\\abdewang.ORADEV\\AppData\\anaconda3\\lib\\site-packages\\xgboost\\core.py\", line 1249, in update\n",
      "    dtrain.handle))\n",
      "  File \"C:\\Users\\abdewang.ORADEV\\AppData\\anaconda3\\lib\\site-packages\\xgboost\\core.py\", line 189, in _check_call\n",
      "    raise XGBoostError(py_str(_LIB.XGBGetLastError()))\n",
      "xgboost.core.XGBoostError: value 1.2 for Parameter colsample_bytree exceed bound [0,1]\n",
      "colsample_bytree: Subsample ratio of columns, resample on each tree construction.\n",
      "\n",
      "  FitFailedWarning)\n",
      "C:\\Users\\abdewang.ORADEV\\AppData\\anaconda3\\lib\\site-packages\\sklearn\\model_selection\\_validation.py:614: FitFailedWarning: Estimator fit failed. The score on this train-test partition for these parameters will be set to nan. Details: \n",
      "Traceback (most recent call last):\n",
      "  File \"C:\\Users\\abdewang.ORADEV\\AppData\\anaconda3\\lib\\site-packages\\sklearn\\model_selection\\_validation.py\", line 593, in _fit_and_score\n",
      "    estimator.fit(X_train, y_train, **fit_params)\n",
      "  File \"C:\\Users\\abdewang.ORADEV\\AppData\\anaconda3\\lib\\site-packages\\xgboost\\sklearn.py\", line 549, in fit\n",
      "    callbacks=callbacks)\n",
      "  File \"C:\\Users\\abdewang.ORADEV\\AppData\\anaconda3\\lib\\site-packages\\xgboost\\training.py\", line 209, in train\n",
      "    xgb_model=xgb_model, callbacks=callbacks)\n",
      "  File \"C:\\Users\\abdewang.ORADEV\\AppData\\anaconda3\\lib\\site-packages\\xgboost\\training.py\", line 74, in _train_internal\n",
      "    bst.update(dtrain, i, obj)\n",
      "  File \"C:\\Users\\abdewang.ORADEV\\AppData\\anaconda3\\lib\\site-packages\\xgboost\\core.py\", line 1249, in update\n",
      "    dtrain.handle))\n",
      "  File \"C:\\Users\\abdewang.ORADEV\\AppData\\anaconda3\\lib\\site-packages\\xgboost\\core.py\", line 189, in _check_call\n",
      "    raise XGBoostError(py_str(_LIB.XGBGetLastError()))\n",
      "xgboost.core.XGBoostError: value 1.2 for Parameter colsample_bytree exceed bound [0,1]\n",
      "colsample_bytree: Subsample ratio of columns, resample on each tree construction.\n",
      "\n",
      "  FitFailedWarning)\n"
     ]
    },
    {
     "name": "stderr",
     "output_type": "stream",
     "text": [
      "C:\\Users\\abdewang.ORADEV\\AppData\\anaconda3\\lib\\site-packages\\sklearn\\model_selection\\_validation.py:614: FitFailedWarning: Estimator fit failed. The score on this train-test partition for these parameters will be set to nan. Details: \n",
      "Traceback (most recent call last):\n",
      "  File \"C:\\Users\\abdewang.ORADEV\\AppData\\anaconda3\\lib\\site-packages\\sklearn\\model_selection\\_validation.py\", line 593, in _fit_and_score\n",
      "    estimator.fit(X_train, y_train, **fit_params)\n",
      "  File \"C:\\Users\\abdewang.ORADEV\\AppData\\anaconda3\\lib\\site-packages\\xgboost\\sklearn.py\", line 549, in fit\n",
      "    callbacks=callbacks)\n",
      "  File \"C:\\Users\\abdewang.ORADEV\\AppData\\anaconda3\\lib\\site-packages\\xgboost\\training.py\", line 209, in train\n",
      "    xgb_model=xgb_model, callbacks=callbacks)\n",
      "  File \"C:\\Users\\abdewang.ORADEV\\AppData\\anaconda3\\lib\\site-packages\\xgboost\\training.py\", line 74, in _train_internal\n",
      "    bst.update(dtrain, i, obj)\n",
      "  File \"C:\\Users\\abdewang.ORADEV\\AppData\\anaconda3\\lib\\site-packages\\xgboost\\core.py\", line 1249, in update\n",
      "    dtrain.handle))\n",
      "  File \"C:\\Users\\abdewang.ORADEV\\AppData\\anaconda3\\lib\\site-packages\\xgboost\\core.py\", line 189, in _check_call\n",
      "    raise XGBoostError(py_str(_LIB.XGBGetLastError()))\n",
      "xgboost.core.XGBoostError: value 1.2 for Parameter colsample_bytree exceed bound [0,1]\n",
      "colsample_bytree: Subsample ratio of columns, resample on each tree construction.\n",
      "\n",
      "  FitFailedWarning)\n",
      "C:\\Users\\abdewang.ORADEV\\AppData\\anaconda3\\lib\\site-packages\\sklearn\\model_selection\\_validation.py:614: FitFailedWarning: Estimator fit failed. The score on this train-test partition for these parameters will be set to nan. Details: \n",
      "Traceback (most recent call last):\n",
      "  File \"C:\\Users\\abdewang.ORADEV\\AppData\\anaconda3\\lib\\site-packages\\sklearn\\model_selection\\_validation.py\", line 593, in _fit_and_score\n",
      "    estimator.fit(X_train, y_train, **fit_params)\n",
      "  File \"C:\\Users\\abdewang.ORADEV\\AppData\\anaconda3\\lib\\site-packages\\xgboost\\sklearn.py\", line 549, in fit\n",
      "    callbacks=callbacks)\n",
      "  File \"C:\\Users\\abdewang.ORADEV\\AppData\\anaconda3\\lib\\site-packages\\xgboost\\training.py\", line 209, in train\n",
      "    xgb_model=xgb_model, callbacks=callbacks)\n",
      "  File \"C:\\Users\\abdewang.ORADEV\\AppData\\anaconda3\\lib\\site-packages\\xgboost\\training.py\", line 74, in _train_internal\n",
      "    bst.update(dtrain, i, obj)\n",
      "  File \"C:\\Users\\abdewang.ORADEV\\AppData\\anaconda3\\lib\\site-packages\\xgboost\\core.py\", line 1249, in update\n",
      "    dtrain.handle))\n",
      "  File \"C:\\Users\\abdewang.ORADEV\\AppData\\anaconda3\\lib\\site-packages\\xgboost\\core.py\", line 189, in _check_call\n",
      "    raise XGBoostError(py_str(_LIB.XGBGetLastError()))\n",
      "xgboost.core.XGBoostError: value 1.2 for Parameter colsample_bytree exceed bound [0,1]\n",
      "colsample_bytree: Subsample ratio of columns, resample on each tree construction.\n",
      "\n",
      "  FitFailedWarning)\n",
      "C:\\Users\\abdewang.ORADEV\\AppData\\anaconda3\\lib\\site-packages\\sklearn\\model_selection\\_validation.py:614: FitFailedWarning: Estimator fit failed. The score on this train-test partition for these parameters will be set to nan. Details: \n",
      "Traceback (most recent call last):\n",
      "  File \"C:\\Users\\abdewang.ORADEV\\AppData\\anaconda3\\lib\\site-packages\\sklearn\\model_selection\\_validation.py\", line 593, in _fit_and_score\n",
      "    estimator.fit(X_train, y_train, **fit_params)\n",
      "  File \"C:\\Users\\abdewang.ORADEV\\AppData\\anaconda3\\lib\\site-packages\\xgboost\\sklearn.py\", line 549, in fit\n",
      "    callbacks=callbacks)\n",
      "  File \"C:\\Users\\abdewang.ORADEV\\AppData\\anaconda3\\lib\\site-packages\\xgboost\\training.py\", line 209, in train\n",
      "    xgb_model=xgb_model, callbacks=callbacks)\n",
      "  File \"C:\\Users\\abdewang.ORADEV\\AppData\\anaconda3\\lib\\site-packages\\xgboost\\training.py\", line 74, in _train_internal\n",
      "    bst.update(dtrain, i, obj)\n",
      "  File \"C:\\Users\\abdewang.ORADEV\\AppData\\anaconda3\\lib\\site-packages\\xgboost\\core.py\", line 1249, in update\n",
      "    dtrain.handle))\n",
      "  File \"C:\\Users\\abdewang.ORADEV\\AppData\\anaconda3\\lib\\site-packages\\xgboost\\core.py\", line 189, in _check_call\n",
      "    raise XGBoostError(py_str(_LIB.XGBGetLastError()))\n",
      "xgboost.core.XGBoostError: value 1.2 for Parameter colsample_bytree exceed bound [0,1]\n",
      "colsample_bytree: Subsample ratio of columns, resample on each tree construction.\n",
      "\n",
      "  FitFailedWarning)\n",
      "C:\\Users\\abdewang.ORADEV\\AppData\\anaconda3\\lib\\site-packages\\sklearn\\model_selection\\_validation.py:614: FitFailedWarning: Estimator fit failed. The score on this train-test partition for these parameters will be set to nan. Details: \n",
      "Traceback (most recent call last):\n",
      "  File \"C:\\Users\\abdewang.ORADEV\\AppData\\anaconda3\\lib\\site-packages\\sklearn\\model_selection\\_validation.py\", line 593, in _fit_and_score\n",
      "    estimator.fit(X_train, y_train, **fit_params)\n",
      "  File \"C:\\Users\\abdewang.ORADEV\\AppData\\anaconda3\\lib\\site-packages\\xgboost\\sklearn.py\", line 549, in fit\n",
      "    callbacks=callbacks)\n",
      "  File \"C:\\Users\\abdewang.ORADEV\\AppData\\anaconda3\\lib\\site-packages\\xgboost\\training.py\", line 209, in train\n",
      "    xgb_model=xgb_model, callbacks=callbacks)\n",
      "  File \"C:\\Users\\abdewang.ORADEV\\AppData\\anaconda3\\lib\\site-packages\\xgboost\\training.py\", line 74, in _train_internal\n",
      "    bst.update(dtrain, i, obj)\n",
      "  File \"C:\\Users\\abdewang.ORADEV\\AppData\\anaconda3\\lib\\site-packages\\xgboost\\core.py\", line 1249, in update\n",
      "    dtrain.handle))\n",
      "  File \"C:\\Users\\abdewang.ORADEV\\AppData\\anaconda3\\lib\\site-packages\\xgboost\\core.py\", line 189, in _check_call\n",
      "    raise XGBoostError(py_str(_LIB.XGBGetLastError()))\n",
      "xgboost.core.XGBoostError: value 1.1 for Parameter colsample_bytree exceed bound [0,1]\n",
      "colsample_bytree: Subsample ratio of columns, resample on each tree construction.\n",
      "\n",
      "  FitFailedWarning)\n",
      "C:\\Users\\abdewang.ORADEV\\AppData\\anaconda3\\lib\\site-packages\\sklearn\\model_selection\\_validation.py:614: FitFailedWarning: Estimator fit failed. The score on this train-test partition for these parameters will be set to nan. Details: \n",
      "Traceback (most recent call last):\n",
      "  File \"C:\\Users\\abdewang.ORADEV\\AppData\\anaconda3\\lib\\site-packages\\sklearn\\model_selection\\_validation.py\", line 593, in _fit_and_score\n",
      "    estimator.fit(X_train, y_train, **fit_params)\n",
      "  File \"C:\\Users\\abdewang.ORADEV\\AppData\\anaconda3\\lib\\site-packages\\xgboost\\sklearn.py\", line 549, in fit\n",
      "    callbacks=callbacks)\n",
      "  File \"C:\\Users\\abdewang.ORADEV\\AppData\\anaconda3\\lib\\site-packages\\xgboost\\training.py\", line 209, in train\n",
      "    xgb_model=xgb_model, callbacks=callbacks)\n",
      "  File \"C:\\Users\\abdewang.ORADEV\\AppData\\anaconda3\\lib\\site-packages\\xgboost\\training.py\", line 74, in _train_internal\n",
      "    bst.update(dtrain, i, obj)\n",
      "  File \"C:\\Users\\abdewang.ORADEV\\AppData\\anaconda3\\lib\\site-packages\\xgboost\\core.py\", line 1249, in update\n",
      "    dtrain.handle))\n",
      "  File \"C:\\Users\\abdewang.ORADEV\\AppData\\anaconda3\\lib\\site-packages\\xgboost\\core.py\", line 189, in _check_call\n",
      "    raise XGBoostError(py_str(_LIB.XGBGetLastError()))\n",
      "xgboost.core.XGBoostError: value 1.1 for Parameter colsample_bytree exceed bound [0,1]\n",
      "colsample_bytree: Subsample ratio of columns, resample on each tree construction.\n",
      "\n",
      "  FitFailedWarning)\n",
      "C:\\Users\\abdewang.ORADEV\\AppData\\anaconda3\\lib\\site-packages\\sklearn\\model_selection\\_validation.py:614: FitFailedWarning: Estimator fit failed. The score on this train-test partition for these parameters will be set to nan. Details: \n",
      "Traceback (most recent call last):\n",
      "  File \"C:\\Users\\abdewang.ORADEV\\AppData\\anaconda3\\lib\\site-packages\\sklearn\\model_selection\\_validation.py\", line 593, in _fit_and_score\n",
      "    estimator.fit(X_train, y_train, **fit_params)\n",
      "  File \"C:\\Users\\abdewang.ORADEV\\AppData\\anaconda3\\lib\\site-packages\\xgboost\\sklearn.py\", line 549, in fit\n",
      "    callbacks=callbacks)\n",
      "  File \"C:\\Users\\abdewang.ORADEV\\AppData\\anaconda3\\lib\\site-packages\\xgboost\\training.py\", line 209, in train\n",
      "    xgb_model=xgb_model, callbacks=callbacks)\n",
      "  File \"C:\\Users\\abdewang.ORADEV\\AppData\\anaconda3\\lib\\site-packages\\xgboost\\training.py\", line 74, in _train_internal\n",
      "    bst.update(dtrain, i, obj)\n",
      "  File \"C:\\Users\\abdewang.ORADEV\\AppData\\anaconda3\\lib\\site-packages\\xgboost\\core.py\", line 1249, in update\n",
      "    dtrain.handle))\n",
      "  File \"C:\\Users\\abdewang.ORADEV\\AppData\\anaconda3\\lib\\site-packages\\xgboost\\core.py\", line 189, in _check_call\n",
      "    raise XGBoostError(py_str(_LIB.XGBGetLastError()))\n",
      "xgboost.core.XGBoostError: value 1.1 for Parameter colsample_bytree exceed bound [0,1]\n",
      "colsample_bytree: Subsample ratio of columns, resample on each tree construction.\n",
      "\n",
      "  FitFailedWarning)\n",
      "C:\\Users\\abdewang.ORADEV\\AppData\\anaconda3\\lib\\site-packages\\sklearn\\model_selection\\_validation.py:614: FitFailedWarning: Estimator fit failed. The score on this train-test partition for these parameters will be set to nan. Details: \n",
      "Traceback (most recent call last):\n",
      "  File \"C:\\Users\\abdewang.ORADEV\\AppData\\anaconda3\\lib\\site-packages\\sklearn\\model_selection\\_validation.py\", line 593, in _fit_and_score\n",
      "    estimator.fit(X_train, y_train, **fit_params)\n",
      "  File \"C:\\Users\\abdewang.ORADEV\\AppData\\anaconda3\\lib\\site-packages\\xgboost\\sklearn.py\", line 549, in fit\n",
      "    callbacks=callbacks)\n",
      "  File \"C:\\Users\\abdewang.ORADEV\\AppData\\anaconda3\\lib\\site-packages\\xgboost\\training.py\", line 209, in train\n",
      "    xgb_model=xgb_model, callbacks=callbacks)\n",
      "  File \"C:\\Users\\abdewang.ORADEV\\AppData\\anaconda3\\lib\\site-packages\\xgboost\\training.py\", line 74, in _train_internal\n",
      "    bst.update(dtrain, i, obj)\n",
      "  File \"C:\\Users\\abdewang.ORADEV\\AppData\\anaconda3\\lib\\site-packages\\xgboost\\core.py\", line 1249, in update\n",
      "    dtrain.handle))\n",
      "  File \"C:\\Users\\abdewang.ORADEV\\AppData\\anaconda3\\lib\\site-packages\\xgboost\\core.py\", line 189, in _check_call\n",
      "    raise XGBoostError(py_str(_LIB.XGBGetLastError()))\n",
      "xgboost.core.XGBoostError: value 1.1 for Parameter colsample_bytree exceed bound [0,1]\n",
      "colsample_bytree: Subsample ratio of columns, resample on each tree construction.\n",
      "\n",
      "  FitFailedWarning)\n",
      "C:\\Users\\abdewang.ORADEV\\AppData\\anaconda3\\lib\\site-packages\\sklearn\\model_selection\\_validation.py:614: FitFailedWarning: Estimator fit failed. The score on this train-test partition for these parameters will be set to nan. Details: \n",
      "Traceback (most recent call last):\n",
      "  File \"C:\\Users\\abdewang.ORADEV\\AppData\\anaconda3\\lib\\site-packages\\sklearn\\model_selection\\_validation.py\", line 593, in _fit_and_score\n",
      "    estimator.fit(X_train, y_train, **fit_params)\n",
      "  File \"C:\\Users\\abdewang.ORADEV\\AppData\\anaconda3\\lib\\site-packages\\xgboost\\sklearn.py\", line 549, in fit\n",
      "    callbacks=callbacks)\n",
      "  File \"C:\\Users\\abdewang.ORADEV\\AppData\\anaconda3\\lib\\site-packages\\xgboost\\training.py\", line 209, in train\n",
      "    xgb_model=xgb_model, callbacks=callbacks)\n",
      "  File \"C:\\Users\\abdewang.ORADEV\\AppData\\anaconda3\\lib\\site-packages\\xgboost\\training.py\", line 74, in _train_internal\n",
      "    bst.update(dtrain, i, obj)\n",
      "  File \"C:\\Users\\abdewang.ORADEV\\AppData\\anaconda3\\lib\\site-packages\\xgboost\\core.py\", line 1249, in update\n",
      "    dtrain.handle))\n",
      "  File \"C:\\Users\\abdewang.ORADEV\\AppData\\anaconda3\\lib\\site-packages\\xgboost\\core.py\", line 189, in _check_call\n",
      "    raise XGBoostError(py_str(_LIB.XGBGetLastError()))\n",
      "xgboost.core.XGBoostError: value 1.1 for Parameter colsample_bytree exceed bound [0,1]\n",
      "colsample_bytree: Subsample ratio of columns, resample on each tree construction.\n",
      "\n",
      "  FitFailedWarning)\n",
      "C:\\Users\\abdewang.ORADEV\\AppData\\anaconda3\\lib\\site-packages\\sklearn\\model_selection\\_search.py:921: UserWarning: One or more of the test scores are non-finite: [0.4524933         nan 0.63709253        nan        nan        nan\n",
      " 0.53715943        nan        nan        nan]\n",
      "  category=UserWarning\n"
     ]
    },
    {
     "data": {
      "text/plain": [
       "RandomizedSearchCV(estimator=XGBRegressor(base_score=None, booster=None,\n",
       "                                          colsample_bylevel=None,\n",
       "                                          colsample_bynode=None,\n",
       "                                          colsample_bytree=None, gamma=None,\n",
       "                                          gpu_id=None, importance_type='gain',\n",
       "                                          interaction_constraints=None,\n",
       "                                          learning_rate=None,\n",
       "                                          max_delta_step=None, max_depth=None,\n",
       "                                          min_child_weight=None, missing=nan,\n",
       "                                          monotone_constraints=None,\n",
       "                                          n_estimators=100, n_jobs...\n",
       "                                          reg_lambda=None,\n",
       "                                          scale_pos_weight=None, subsample=None,\n",
       "                                          tree_method=None,\n",
       "                                          validate_parameters=False,\n",
       "                                          verbosity=None),\n",
       "                   param_distributions={'colsample_bytree': [0.5, 0.6, 0.7, 0.8,\n",
       "                                                             0.9, 1.0, 1.1, 1.2,\n",
       "                                                             1.3, 1.4, 1.5],\n",
       "                                        'gamma': [0.0, 0.1, 0.2, 0.3, 0.4],\n",
       "                                        'learning_rate': [0.05, 0.1, 0.15, 0.2,\n",
       "                                                          0.25, 0.3],\n",
       "                                        'max_depth': [3, 4, 5, 6, 7, 8, 9, 10,\n",
       "                                                      11, 12, 13, 14, 15],\n",
       "                                        'n_estimators': [5, 6, 7, 8, 9, 10, 11,\n",
       "                                                         12]})"
      ]
     },
     "execution_count": 48,
     "metadata": {},
     "output_type": "execute_result"
    }
   ],
   "source": [
    "# hyperparameter optimization\n",
    "from sklearn.model_selection import RandomizedSearchCV, GridSearchCV\n",
    "\n",
    "random_search = RandomizedSearchCV(regressor, param_distributions=params, n_iter=10)\n",
    "\n",
    "random_search.fit(X,y)"
   ]
  },
  {
   "cell_type": "code",
   "execution_count": 49,
   "metadata": {},
   "outputs": [
    {
     "data": {
      "text/plain": [
       "XGBRegressor(base_score=0.5, booster=None, colsample_bylevel=1,\n",
       "             colsample_bynode=1, colsample_bytree=1.0, gamma=0.2, gpu_id=-1,\n",
       "             importance_type='gain', interaction_constraints=None,\n",
       "             learning_rate=0.1, max_delta_step=0, max_depth=14,\n",
       "             min_child_weight=1, missing=nan, monotone_constraints=None,\n",
       "             n_estimators=8, n_jobs=0, num_parallel_tree=1, random_state=0,\n",
       "             reg_alpha=0, reg_lambda=1, scale_pos_weight=1, subsample=1,\n",
       "             tree_method=None, validate_parameters=False, verbosity=None)"
      ]
     },
     "execution_count": 49,
     "metadata": {},
     "output_type": "execute_result"
    }
   ],
   "source": [
    "random_search.best_estimator_"
   ]
  },
  {
   "cell_type": "code",
   "execution_count": 50,
   "metadata": {},
   "outputs": [
    {
     "data": {
      "text/plain": [
       "{'n_estimators': 8,\n",
       " 'max_depth': 14,\n",
       " 'learning_rate': 0.1,\n",
       " 'gamma': 0.2,\n",
       " 'colsample_bytree': 1.0}"
      ]
     },
     "execution_count": 50,
     "metadata": {},
     "output_type": "execute_result"
    }
   ],
   "source": [
    "random_search.best_params_"
   ]
  },
  {
   "cell_type": "code",
   "execution_count": 51,
   "metadata": {},
   "outputs": [
    {
     "data": {
      "text/plain": [
       "XGBRegressor(base_score=0.5, booster=None, colsample_bylevel=1,\n",
       "             colsample_bynode=1, colsample_bytree=1.0, gamma=0.3, gpu_id=-1,\n",
       "             importance_type='gain', interaction_constraints=None,\n",
       "             learning_rate=0.3, max_delta_step=0, max_depth=5,\n",
       "             min_child_weight=1, missing=nan, monotone_constraints=None,\n",
       "             n_estimators=12, n_jobs=0, num_parallel_tree=1, random_state=0,\n",
       "             reg_alpha=0, reg_lambda=1, scale_pos_weight=1, subsample=1,\n",
       "             tree_method=None, validate_parameters=False, verbosity=None)"
      ]
     },
     "execution_count": 51,
     "metadata": {},
     "output_type": "execute_result"
    }
   ],
   "source": [
    "# Fitting the Gradient Boosting Regression to dataset\n",
    "XGB = XGBRegressor(n_estimators=12,max_depth = 5,learning_rate = 0.3,gamma = 0.3,colsample_bytree = 1.0, random_state = 0)\n",
    "XGB.fit(X_train,y_train)"
   ]
  },
  {
   "cell_type": "code",
   "execution_count": 52,
   "metadata": {},
   "outputs": [],
   "source": [
    "#Predicting the Test set results\n",
    "y_xgb_pred = XGB.predict(X_test)"
   ]
  },
  {
   "cell_type": "code",
   "execution_count": 53,
   "metadata": {},
   "outputs": [
    {
     "data": {
      "text/plain": [
       "<matplotlib.collections.PathCollection at 0x283befb86c8>"
      ]
     },
     "execution_count": 53,
     "metadata": {},
     "output_type": "execute_result"
    },
    {
     "data": {
      "image/png": "[encoded data removed]",
      "text/plain": [
       "<Figure size 432x288 with 1 Axes>"
      ]
     },
     "metadata": {
      "needs_background": "light"
     },
     "output_type": "display_data"
    }
   ],
   "source": [
    "plt.scatter(y_xgb_pred, y_test)"
   ]
  },
  {
   "cell_type": "code",
   "execution_count": 54,
   "metadata": {},
   "outputs": [
    {
     "data": {
      "text/plain": [
       "0.8951752379496261"
      ]
     },
     "execution_count": 54,
     "metadata": {},
     "output_type": "execute_result"
    }
   ],
   "source": [
    "# model score(train)\n",
    "XGB.score(X_train,y_train)"
   ]
  },
  {
   "cell_type": "code",
   "execution_count": 55,
   "metadata": {},
   "outputs": [
    {
     "data": {
      "text/plain": [
       "0.885181344337482"
      ]
     },
     "execution_count": 55,
     "metadata": {},
     "output_type": "execute_result"
    }
   ],
   "source": [
    "# model score(test)\n",
    "XGB.score(X_test,y_test)"
   ]
  },
  {
   "cell_type": "code",
   "execution_count": 56,
   "metadata": {},
   "outputs": [
    {
     "name": "stdout",
     "output_type": "stream",
     "text": [
      "XG Boost - R2 Score :  0.885181344337482\n",
      "XG Boost - Mean Square Error :  0.12494693556853932\n",
      "XG Boost - Root Mean Square Error :  0.35347833818855057\n"
     ]
    }
   ],
   "source": [
    "# XGBoost Model Evaluation\n",
    "\n",
    "#find out r-squared\n",
    "from sklearn.metrics import r2_score\n",
    "r2_score = r2_score(y_test, y_xgb_pred, sample_weight=None, multioutput='uniform_average')\n",
    "print(\"XG Boost - R2 Score : \",r2_score)\n",
    "\n",
    "# find out mean suqred error\n",
    "from sklearn.metrics import mean_squared_error\n",
    "mse = mean_squared_error(y_test, y_xgb_pred)\n",
    "rmse = np.sqrt(mean_squared_error(y_test, y_xgb_pred))\n",
    "print(\"XG Boost - Mean Square Error : \", mse)\n",
    "print(\"XG Boost - Root Mean Square Error : \", rmse)"
   ]
  },
  {
   "cell_type": "code",
   "execution_count": null,
   "metadata": {},
   "outputs": [],
   "source": []
  }
 ],
 "metadata": {
  "kernelspec": {
   "display_name": "Python 3",
   "language": "python",
   "name": "python3"
  },
  "language_info": {
   "codemirror_mode": {
    "name": "ipython",
    "version": 3
   },
   "file_extension": ".py",
   "mimetype": "text/x-python",
   "name": "python",
   "nbconvert_exporter": "python",
   "pygments_lexer": "ipython3",
   "version": "3.7.4"
  }
 },
 "nbformat": 4,
 "nbformat_minor": 2
}
